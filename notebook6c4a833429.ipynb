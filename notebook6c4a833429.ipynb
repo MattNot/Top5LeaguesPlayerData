{
 "cells": [
  {
   "cell_type": "code",
   "execution_count": 40,
   "id": "fc228b66",
   "metadata": {},
   "outputs": [
    {
     "name": "stdout",
     "output_type": "stream",
     "text": [
      "Requirement already satisfied: selenium in c:\\users\\matteo\\anaconda3\\envs\\top5player\\lib\\site-packages (from -r requirements.txt (line 1)) (4.17.2)\n",
      "Requirement already satisfied: pandas in c:\\users\\matteo\\anaconda3\\envs\\top5player\\lib\\site-packages (from -r requirements.txt (line 2)) (2.2.0)\n",
      "Requirement already satisfied: pyarrow in c:\\users\\matteo\\anaconda3\\envs\\top5player\\lib\\site-packages (from -r requirements.txt (line 3)) (15.0.0)\n",
      "Requirement already satisfied: beautifulsoup4 in c:\\users\\matteo\\anaconda3\\envs\\top5player\\lib\\site-packages (from -r requirements.txt (line 4)) (4.12.3)\n",
      "Requirement already satisfied: requests in c:\\users\\matteo\\anaconda3\\envs\\top5player\\lib\\site-packages (from -r requirements.txt (line 5)) (2.31.0)\n",
      "Requirement already satisfied: lxml in c:\\users\\matteo\\anaconda3\\envs\\top5player\\lib\\site-packages (from -r requirements.txt (line 6)) (5.1.0)\n",
      "Requirement already satisfied: html5lib in c:\\users\\matteo\\anaconda3\\envs\\top5player\\lib\\site-packages (from -r requirements.txt (line 7)) (1.1)\n",
      "Collecting tqdm (from -r requirements.txt (line 8))\n",
      "  Downloading tqdm-4.66.2-py3-none-any.whl.metadata (57 kB)\n",
      "     ---------------------------------------- 0.0/57.6 kB ? eta -:--:--\n",
      "     ------------- ------------------------ 20.5/57.6 kB 330.3 kB/s eta 0:00:01\n",
      "     -------------------- ----------------- 30.7/57.6 kB 330.3 kB/s eta 0:00:01\n",
      "     -------------------------------------- 57.6/57.6 kB 434.4 kB/s eta 0:00:00\n",
      "Requirement already satisfied: urllib3<3,>=1.26 in c:\\users\\matteo\\anaconda3\\envs\\top5player\\lib\\site-packages (from urllib3[socks]<3,>=1.26->selenium->-r requirements.txt (line 1)) (2.2.1)\n",
      "Requirement already satisfied: trio~=0.17 in c:\\users\\matteo\\anaconda3\\envs\\top5player\\lib\\site-packages (from selenium->-r requirements.txt (line 1)) (0.24.0)\n",
      "Requirement already satisfied: trio-websocket~=0.9 in c:\\users\\matteo\\anaconda3\\envs\\top5player\\lib\\site-packages (from selenium->-r requirements.txt (line 1)) (0.11.1)\n",
      "Requirement already satisfied: certifi>=2021.10.8 in c:\\users\\matteo\\anaconda3\\envs\\top5player\\lib\\site-packages (from selenium->-r requirements.txt (line 1)) (2024.2.2)\n",
      "Requirement already satisfied: typing_extensions>=4.9.0 in c:\\users\\matteo\\anaconda3\\envs\\top5player\\lib\\site-packages (from selenium->-r requirements.txt (line 1)) (4.9.0)\n",
      "Requirement already satisfied: numpy<2,>=1.26.0 in c:\\users\\matteo\\anaconda3\\envs\\top5player\\lib\\site-packages (from pandas->-r requirements.txt (line 2)) (1.26.4)\n",
      "Requirement already satisfied: python-dateutil>=2.8.2 in c:\\users\\matteo\\anaconda3\\envs\\top5player\\lib\\site-packages (from pandas->-r requirements.txt (line 2)) (2.8.2)\n",
      "Requirement already satisfied: pytz>=2020.1 in c:\\users\\matteo\\anaconda3\\envs\\top5player\\lib\\site-packages (from pandas->-r requirements.txt (line 2)) (2024.1)\n",
      "Requirement already satisfied: tzdata>=2022.7 in c:\\users\\matteo\\anaconda3\\envs\\top5player\\lib\\site-packages (from pandas->-r requirements.txt (line 2)) (2024.1)\n",
      "Requirement already satisfied: soupsieve>1.2 in c:\\users\\matteo\\anaconda3\\envs\\top5player\\lib\\site-packages (from beautifulsoup4->-r requirements.txt (line 4)) (2.5)\n",
      "Requirement already satisfied: charset-normalizer<4,>=2 in c:\\users\\matteo\\anaconda3\\envs\\top5player\\lib\\site-packages (from requests->-r requirements.txt (line 5)) (3.3.2)\n",
      "Requirement already satisfied: idna<4,>=2.5 in c:\\users\\matteo\\anaconda3\\envs\\top5player\\lib\\site-packages (from requests->-r requirements.txt (line 5)) (3.6)\n",
      "Requirement already satisfied: six>=1.9 in c:\\users\\matteo\\anaconda3\\envs\\top5player\\lib\\site-packages (from html5lib->-r requirements.txt (line 7)) (1.16.0)\n",
      "Requirement already satisfied: webencodings in c:\\users\\matteo\\anaconda3\\envs\\top5player\\lib\\site-packages (from html5lib->-r requirements.txt (line 7)) (0.5.1)\n",
      "Requirement already satisfied: colorama in c:\\users\\matteo\\anaconda3\\envs\\top5player\\lib\\site-packages (from tqdm->-r requirements.txt (line 8)) (0.4.6)\n",
      "Requirement already satisfied: attrs>=20.1.0 in c:\\users\\matteo\\anaconda3\\envs\\top5player\\lib\\site-packages (from trio~=0.17->selenium->-r requirements.txt (line 1)) (23.2.0)\n",
      "Requirement already satisfied: sortedcontainers in c:\\users\\matteo\\anaconda3\\envs\\top5player\\lib\\site-packages (from trio~=0.17->selenium->-r requirements.txt (line 1)) (2.4.0)\n",
      "Requirement already satisfied: outcome in c:\\users\\matteo\\anaconda3\\envs\\top5player\\lib\\site-packages (from trio~=0.17->selenium->-r requirements.txt (line 1)) (1.3.0.post0)\n",
      "Requirement already satisfied: sniffio>=1.3.0 in c:\\users\\matteo\\anaconda3\\envs\\top5player\\lib\\site-packages (from trio~=0.17->selenium->-r requirements.txt (line 1)) (1.3.0)\n",
      "Requirement already satisfied: cffi>=1.14 in c:\\users\\matteo\\anaconda3\\envs\\top5player\\lib\\site-packages (from trio~=0.17->selenium->-r requirements.txt (line 1)) (1.16.0)\n",
      "Requirement already satisfied: wsproto>=0.14 in c:\\users\\matteo\\anaconda3\\envs\\top5player\\lib\\site-packages (from trio-websocket~=0.9->selenium->-r requirements.txt (line 1)) (1.2.0)\n",
      "Requirement already satisfied: pysocks!=1.5.7,<2.0,>=1.5.6 in c:\\users\\matteo\\anaconda3\\envs\\top5player\\lib\\site-packages (from urllib3[socks]<3,>=1.26->selenium->-r requirements.txt (line 1)) (1.7.1)\n",
      "Requirement already satisfied: pycparser in c:\\users\\matteo\\anaconda3\\envs\\top5player\\lib\\site-packages (from cffi>=1.14->trio~=0.17->selenium->-r requirements.txt (line 1)) (2.21)\n",
      "Requirement already satisfied: h11<1,>=0.9.0 in c:\\users\\matteo\\anaconda3\\envs\\top5player\\lib\\site-packages (from wsproto>=0.14->trio-websocket~=0.9->selenium->-r requirements.txt (line 1)) (0.14.0)\n",
      "Downloading tqdm-4.66.2-py3-none-any.whl (78 kB)\n",
      "   ---------------------------------------- 0.0/78.3 kB ? eta -:--:--\n",
      "   ------------------------------- -------- 61.4/78.3 kB 3.2 MB/s eta 0:00:01\n",
      "   ---------------------------------------- 78.3/78.3 kB 1.4 MB/s eta 0:00:00\n",
      "Installing collected packages: tqdm\n",
      "Successfully installed tqdm-4.66.2\n",
      "Note: you may need to restart the kernel to use updated packages.\n"
     ]
    }
   ],
   "source": [
    "%pip install -r requirements.txt"
   ]
  },
  {
   "cell_type": "code",
   "execution_count": 4,
   "id": "72b19336",
   "metadata": {
    "_cell_guid": "b1076dfc-b9ad-4769-8c92-a6c4dae69d19",
    "_uuid": "8f2839f25d086af736a60e9eeb907d3b93b6e0e5",
    "execution": {
     "iopub.execute_input": "2024-02-18T14:06:43.102524Z",
     "iopub.status.busy": "2024-02-18T14:06:43.101867Z",
     "iopub.status.idle": "2024-02-18T14:06:43.997657Z",
     "shell.execute_reply": "2024-02-18T14:06:43.996559Z"
    },
    "papermill": {
     "duration": 0.902082,
     "end_time": "2024-02-18T14:06:44.000321",
     "exception": false,
     "start_time": "2024-02-18T14:06:43.098239",
     "status": "completed"
    },
    "tags": []
   },
   "outputs": [],
   "source": [
    "# This Python 3 environment comes with many helpful analytics libraries installed\n",
    "# It is defined by the kaggle/python Docker image: https://github.com/kaggle/docker-python\n",
    "# For example, here's several helpful packages to load\n",
    "import warnings\n",
    "warnings.simplefilter(action='ignore', category=FutureWarning)\n",
    "\n",
    "import numpy as np # linear algebra\n",
    "import pandas as pd # data processing, CSV file I/O (e.g. pd.read_csv)\n",
    "\n",
    "# Input data files are available in the read-only \"../input/\" directory\n",
    "# For example, running this (by clicking run or pressing Shift+Enter) will list all files under the input directory\n",
    "\n",
    "# You can write up to 20GB to the current directory (/kaggle/working/) that gets preserved as output when you create a version using \"Save & Run All\" \n",
    "# You can also write temporary files to /kaggle/temp/, but they won't be saved outside of the current session"
   ]
  },
  {
   "cell_type": "code",
   "execution_count": 2,
   "id": "c3b1215c",
   "metadata": {},
   "outputs": [],
   "source": [
    "# from selenium import webdriver\n",
    "# from selenium.webdriver.chrome.options import Options\n",
    "# options = Options()\n",
    "# # options.add_argument('--headless')\n",
    "# options.headless = False\n",
    "# chrome_options = webdriver.ChromeOptions()\n",
    "# chrome_options.add_experimental_option(\n",
    "#     # this will disable image loading\n",
    "#     \"prefs\", {\"profile.managed_default_content_settings.images\": 2}\n",
    "# )\n",
    "\n",
    "# driver = webdriver.Chrome(options, options=chrome_options)\n",
    "# driver.get('')"
   ]
  },
  {
   "cell_type": "code",
   "execution_count": 2,
   "id": "24b91444",
   "metadata": {},
   "outputs": [],
   "source": [
    "import requests\n",
    "from bs4 import BeautifulSoup\n",
    "\n"
   ]
  },
  {
   "cell_type": "code",
   "execution_count": null,
   "id": "2893044c",
   "metadata": {},
   "outputs": [],
   "source": []
  },
  {
   "cell_type": "code",
   "execution_count": 3,
   "id": "625744f4",
   "metadata": {},
   "outputs": [],
   "source": [
    "from bs4 import PageElement, Tag\n",
    "from threading import Thread\n",
    "years = [\n",
    "    (2018, 2019),\n",
    "    (2019, 2020),\n",
    "    (2020, 2021),\n",
    "    (2021, 2022),\n",
    "    (2022, 2023),\n",
    "]\n",
    "seriea = []\n",
    "\n",
    "for y1, y2 in years:\n",
    "    URL = f\"https://fbref.com/en/comps/11/{y1}-{y2}/{y1}-{y2}-Serie-A-Stats\"\n",
    "    page = requests.get(URL)\n",
    "    soup = BeautifulSoup(page.content, \"lxml\")\n",
    "    table = soup.find(id=f\"results{y1}-{y2}111_overall\").find(\"tbody\")\n",
    "    squadre = []\n",
    "\n",
    "    for row in table.find_all(\"tr\"):\n",
    "        r: PageElement = row\n",
    "        anchor: Tag = r.find(\"a\")\n",
    "        squadre.append(anchor.attrs[\"href\"])\n",
    "    seriea.append(squadre)"
   ]
  },
  {
   "cell_type": "code",
   "execution_count": 5,
   "id": "59004ab4",
   "metadata": {},
   "outputs": [
    {
     "name": "stderr",
     "output_type": "stream",
     "text": [
      "  0%|          | 0/5 [00:00<?, ?it/s]"
     ]
    },
    {
     "name": "stdout",
     "output_type": "stream",
     "text": [
      "https://fbref.com/en/squads/e0652b02/2018-2019/all_comps/Juventus-Stats-All-Competitions\n"
     ]
    },
    {
     "name": "stderr",
     "output_type": "stream",
     "text": []
    },
    {
     "name": "stdout",
     "output_type": "stream",
     "text": [
      "https://fbref.com/en/squads/d48ad4ff/2018-2019/all_comps/Napoli-Stats-All-Competitions\n"
     ]
    },
    {
     "name": "stderr",
     "output_type": "stream",
     "text": []
    },
    {
     "name": "stdout",
     "output_type": "stream",
     "text": [
      "https://fbref.com/en/squads/922493f3/2018-2019/all_comps/Atalanta-Stats-All-Competitions\n"
     ]
    },
    {
     "name": "stderr",
     "output_type": "stream",
     "text": []
    },
    {
     "name": "stdout",
     "output_type": "stream",
     "text": [
      "https://fbref.com/en/squads/d609edc0/2018-2019/all_comps/Internazionale-Stats-All-Competitions\n"
     ]
    },
    {
     "name": "stderr",
     "output_type": "stream",
     "text": []
    },
    {
     "name": "stdout",
     "output_type": "stream",
     "text": [
      "https://fbref.com/en/squads/dc56fe14/2018-2019/all_comps/Milan-Stats-All-Competitions\n"
     ]
    },
    {
     "name": "stderr",
     "output_type": "stream",
     "text": []
    },
    {
     "name": "stdout",
     "output_type": "stream",
     "text": [
      "https://fbref.com/en/squads/cf74a709/2018-2019/all_comps/Roma-Stats-All-Competitions\n"
     ]
    },
    {
     "name": "stderr",
     "output_type": "stream",
     "text": []
    },
    {
     "name": "stdout",
     "output_type": "stream",
     "text": [
      "https://fbref.com/en/squads/105360fe/2018-2019/all_comps/Torino-Stats-All-Competitions\n"
     ]
    },
    {
     "name": "stderr",
     "output_type": "stream",
     "text": []
    },
    {
     "name": "stdout",
     "output_type": "stream",
     "text": [
      "https://fbref.com/en/squads/7213da33/2018-2019/all_comps/Lazio-Stats-All-Competitions\n"
     ]
    },
    {
     "name": "stderr",
     "output_type": "stream",
     "text": []
    },
    {
     "name": "stdout",
     "output_type": "stream",
     "text": [
      "https://fbref.com/en/squads/8ff9e3b3/2018-2019/all_comps/Sampdoria-Stats-All-Competitions\n"
     ]
    },
    {
     "name": "stderr",
     "output_type": "stream",
     "text": []
    },
    {
     "name": "stdout",
     "output_type": "stream",
     "text": [
      "https://fbref.com/en/squads/1d8099f8/2018-2019/all_comps/Bologna-Stats-All-Competitions\n"
     ]
    },
    {
     "name": "stderr",
     "output_type": "stream",
     "text": []
    },
    {
     "name": "stdout",
     "output_type": "stream",
     "text": [
      "https://fbref.com/en/squads/e2befd26/2018-2019/all_comps/Sassuolo-Stats-All-Competitions\n"
     ]
    },
    {
     "name": "stderr",
     "output_type": "stream",
     "text": []
    },
    {
     "name": "stdout",
     "output_type": "stream",
     "text": [
      "https://fbref.com/en/squads/04eea015/2018-2019/all_comps/Udinese-Stats-All-Competitions\n"
     ]
    },
    {
     "name": "stderr",
     "output_type": "stream",
     "text": []
    },
    {
     "name": "stdout",
     "output_type": "stream",
     "text": [
      "https://fbref.com/en/squads/1d2fe027/2018-2019/all_comps/SPAL-Stats-All-Competitions\n"
     ]
    },
    {
     "name": "stderr",
     "output_type": "stream",
     "text": []
    },
    {
     "name": "stdout",
     "output_type": "stream",
     "text": [
      "https://fbref.com/en/squads/eab4234c/2018-2019/all_comps/Parma-Stats-All-Competitions\n"
     ]
    },
    {
     "name": "stderr",
     "output_type": "stream",
     "text": []
    },
    {
     "name": "stdout",
     "output_type": "stream",
     "text": [
      "https://fbref.com/en/squads/c4260e09/2018-2019/all_comps/Cagliari-Stats-All-Competitions\n"
     ]
    },
    {
     "name": "stderr",
     "output_type": "stream",
     "text": []
    },
    {
     "name": "stdout",
     "output_type": "stream",
     "text": [
      "https://fbref.com/en/squads/421387cf/2018-2019/all_comps/Fiorentina-Stats-All-Competitions\n"
     ]
    },
    {
     "name": "stderr",
     "output_type": "stream",
     "text": []
    },
    {
     "name": "stdout",
     "output_type": "stream",
     "text": [
      "https://fbref.com/en/squads/658bf2de/2018-2019/all_comps/Genoa-Stats-All-Competitions\n"
     ]
    },
    {
     "name": "stderr",
     "output_type": "stream",
     "text": []
    },
    {
     "name": "stdout",
     "output_type": "stream",
     "text": [
      "https://fbref.com/en/squads/a3d88bd8/2018-2019/all_comps/Empoli-Stats-All-Competitions\n"
     ]
    },
    {
     "name": "stderr",
     "output_type": "stream",
     "text": []
    },
    {
     "name": "stdout",
     "output_type": "stream",
     "text": [
      "https://fbref.com/en/squads/6a7ad59d/2018-2019/all_comps/Frosinone-Stats-All-Competitions\n"
     ]
    },
    {
     "name": "stderr",
     "output_type": "stream",
     "text": []
    },
    {
     "name": "stdout",
     "output_type": "stream",
     "text": [
      "https://fbref.com/en/squads/cc919b35/2018-2019/all_comps/Chievo-Stats-All-Competitions\n"
     ]
    },
    {
     "name": "stderr",
     "output_type": "stream",
     "text": [
      "100%|██████████| 20/20 [02:49<00:00,  8.49s/it]\n",
      " 20%|██        | 1/5 [02:49<11:19, 169.82s/it]"
     ]
    },
    {
     "name": "stdout",
     "output_type": "stream",
     "text": [
      "https://fbref.com/en/squads/e0652b02/2019-2020/all_comps/Juventus-Stats-All-Competitions\n"
     ]
    },
    {
     "name": "stderr",
     "output_type": "stream",
     "text": []
    },
    {
     "name": "stdout",
     "output_type": "stream",
     "text": [
      "https://fbref.com/en/squads/d609edc0/2019-2020/all_comps/Internazionale-Stats-All-Competitions\n"
     ]
    },
    {
     "name": "stderr",
     "output_type": "stream",
     "text": []
    },
    {
     "name": "stdout",
     "output_type": "stream",
     "text": [
      "https://fbref.com/en/squads/922493f3/2019-2020/all_comps/Atalanta-Stats-All-Competitions\n"
     ]
    },
    {
     "name": "stderr",
     "output_type": "stream",
     "text": []
    },
    {
     "name": "stdout",
     "output_type": "stream",
     "text": [
      "https://fbref.com/en/squads/7213da33/2019-2020/all_comps/Lazio-Stats-All-Competitions\n"
     ]
    },
    {
     "name": "stderr",
     "output_type": "stream",
     "text": []
    },
    {
     "name": "stdout",
     "output_type": "stream",
     "text": [
      "https://fbref.com/en/squads/cf74a709/2019-2020/all_comps/Roma-Stats-All-Competitions\n"
     ]
    },
    {
     "name": "stderr",
     "output_type": "stream",
     "text": []
    },
    {
     "name": "stdout",
     "output_type": "stream",
     "text": [
      "https://fbref.com/en/squads/dc56fe14/2019-2020/all_comps/Milan-Stats-All-Competitions\n"
     ]
    },
    {
     "name": "stderr",
     "output_type": "stream",
     "text": []
    },
    {
     "name": "stdout",
     "output_type": "stream",
     "text": [
      "https://fbref.com/en/squads/d48ad4ff/2019-2020/all_comps/Napoli-Stats-All-Competitions\n"
     ]
    },
    {
     "name": "stderr",
     "output_type": "stream",
     "text": []
    },
    {
     "name": "stdout",
     "output_type": "stream",
     "text": [
      "https://fbref.com/en/squads/e2befd26/2019-2020/all_comps/Sassuolo-Stats-All-Competitions\n"
     ]
    },
    {
     "name": "stderr",
     "output_type": "stream",
     "text": []
    },
    {
     "name": "stdout",
     "output_type": "stream",
     "text": [
      "https://fbref.com/en/squads/0e72edf2/2019-2020/all_comps/Hellas-Verona-Stats-All-Competitions\n"
     ]
    },
    {
     "name": "stderr",
     "output_type": "stream",
     "text": []
    },
    {
     "name": "stdout",
     "output_type": "stream",
     "text": [
      "https://fbref.com/en/squads/421387cf/2019-2020/all_comps/Fiorentina-Stats-All-Competitions\n"
     ]
    },
    {
     "name": "stderr",
     "output_type": "stream",
     "text": []
    },
    {
     "name": "stdout",
     "output_type": "stream",
     "text": [
      "https://fbref.com/en/squads/eab4234c/2019-2020/all_comps/Parma-Stats-All-Competitions\n"
     ]
    },
    {
     "name": "stderr",
     "output_type": "stream",
     "text": []
    },
    {
     "name": "stdout",
     "output_type": "stream",
     "text": [
      "https://fbref.com/en/squads/1d8099f8/2019-2020/all_comps/Bologna-Stats-All-Competitions\n"
     ]
    },
    {
     "name": "stderr",
     "output_type": "stream",
     "text": []
    },
    {
     "name": "stdout",
     "output_type": "stream",
     "text": [
      "https://fbref.com/en/squads/04eea015/2019-2020/all_comps/Udinese-Stats-All-Competitions\n"
     ]
    },
    {
     "name": "stderr",
     "output_type": "stream",
     "text": []
    },
    {
     "name": "stdout",
     "output_type": "stream",
     "text": [
      "https://fbref.com/en/squads/c4260e09/2019-2020/all_comps/Cagliari-Stats-All-Competitions\n"
     ]
    },
    {
     "name": "stderr",
     "output_type": "stream",
     "text": []
    },
    {
     "name": "stdout",
     "output_type": "stream",
     "text": [
      "https://fbref.com/en/squads/8ff9e3b3/2019-2020/all_comps/Sampdoria-Stats-All-Competitions\n"
     ]
    },
    {
     "name": "stderr",
     "output_type": "stream",
     "text": []
    },
    {
     "name": "stdout",
     "output_type": "stream",
     "text": [
      "https://fbref.com/en/squads/105360fe/2019-2020/all_comps/Torino-Stats-All-Competitions\n"
     ]
    },
    {
     "name": "stderr",
     "output_type": "stream",
     "text": []
    },
    {
     "name": "stdout",
     "output_type": "stream",
     "text": [
      "https://fbref.com/en/squads/658bf2de/2019-2020/all_comps/Genoa-Stats-All-Competitions\n"
     ]
    },
    {
     "name": "stderr",
     "output_type": "stream",
     "text": []
    },
    {
     "name": "stdout",
     "output_type": "stream",
     "text": [
      "https://fbref.com/en/squads/ffcbe334/2019-2020/all_comps/Lecce-Stats-All-Competitions\n"
     ]
    },
    {
     "name": "stderr",
     "output_type": "stream",
     "text": []
    },
    {
     "name": "stdout",
     "output_type": "stream",
     "text": [
      "https://fbref.com/en/squads/4ef57aeb/2019-2020/all_comps/Brescia-Stats-All-Competitions\n"
     ]
    },
    {
     "name": "stderr",
     "output_type": "stream",
     "text": []
    },
    {
     "name": "stdout",
     "output_type": "stream",
     "text": [
      "https://fbref.com/en/squads/1d2fe027/2019-2020/all_comps/SPAL-Stats-All-Competitions\n"
     ]
    },
    {
     "name": "stderr",
     "output_type": "stream",
     "text": [
      "100%|██████████| 20/20 [02:59<00:00,  8.99s/it]\n",
      " 40%|████      | 2/5 [05:49<08:47, 175.69s/it]"
     ]
    },
    {
     "name": "stdout",
     "output_type": "stream",
     "text": [
      "https://fbref.com/en/squads/d609edc0/2020-2021/all_comps/Internazionale-Stats-All-Competitions\n"
     ]
    },
    {
     "name": "stderr",
     "output_type": "stream",
     "text": []
    },
    {
     "name": "stdout",
     "output_type": "stream",
     "text": [
      "https://fbref.com/en/squads/dc56fe14/2020-2021/all_comps/Milan-Stats-All-Competitions\n"
     ]
    },
    {
     "name": "stderr",
     "output_type": "stream",
     "text": []
    },
    {
     "name": "stdout",
     "output_type": "stream",
     "text": [
      "https://fbref.com/en/squads/922493f3/2020-2021/all_comps/Atalanta-Stats-All-Competitions\n"
     ]
    },
    {
     "name": "stderr",
     "output_type": "stream",
     "text": []
    },
    {
     "name": "stdout",
     "output_type": "stream",
     "text": [
      "https://fbref.com/en/squads/e0652b02/2020-2021/all_comps/Juventus-Stats-All-Competitions\n"
     ]
    },
    {
     "name": "stderr",
     "output_type": "stream",
     "text": []
    },
    {
     "name": "stdout",
     "output_type": "stream",
     "text": [
      "https://fbref.com/en/squads/d48ad4ff/2020-2021/all_comps/Napoli-Stats-All-Competitions\n"
     ]
    },
    {
     "name": "stderr",
     "output_type": "stream",
     "text": []
    },
    {
     "name": "stdout",
     "output_type": "stream",
     "text": [
      "https://fbref.com/en/squads/7213da33/2020-2021/all_comps/Lazio-Stats-All-Competitions\n"
     ]
    },
    {
     "name": "stderr",
     "output_type": "stream",
     "text": []
    },
    {
     "name": "stdout",
     "output_type": "stream",
     "text": [
      "https://fbref.com/en/squads/cf74a709/2020-2021/all_comps/Roma-Stats-All-Competitions\n"
     ]
    },
    {
     "name": "stderr",
     "output_type": "stream",
     "text": []
    },
    {
     "name": "stdout",
     "output_type": "stream",
     "text": [
      "https://fbref.com/en/squads/e2befd26/2020-2021/all_comps/Sassuolo-Stats-All-Competitions\n"
     ]
    },
    {
     "name": "stderr",
     "output_type": "stream",
     "text": []
    },
    {
     "name": "stdout",
     "output_type": "stream",
     "text": [
      "https://fbref.com/en/squads/8ff9e3b3/2020-2021/all_comps/Sampdoria-Stats-All-Competitions\n"
     ]
    },
    {
     "name": "stderr",
     "output_type": "stream",
     "text": []
    },
    {
     "name": "stdout",
     "output_type": "stream",
     "text": [
      "https://fbref.com/en/squads/0e72edf2/2020-2021/all_comps/Hellas-Verona-Stats-All-Competitions\n"
     ]
    },
    {
     "name": "stderr",
     "output_type": "stream",
     "text": []
    },
    {
     "name": "stdout",
     "output_type": "stream",
     "text": [
      "https://fbref.com/en/squads/658bf2de/2020-2021/all_comps/Genoa-Stats-All-Competitions\n"
     ]
    },
    {
     "name": "stderr",
     "output_type": "stream",
     "text": []
    },
    {
     "name": "stdout",
     "output_type": "stream",
     "text": [
      "https://fbref.com/en/squads/1d8099f8/2020-2021/all_comps/Bologna-Stats-All-Competitions\n"
     ]
    },
    {
     "name": "stderr",
     "output_type": "stream",
     "text": []
    },
    {
     "name": "stdout",
     "output_type": "stream",
     "text": [
      "https://fbref.com/en/squads/421387cf/2020-2021/all_comps/Fiorentina-Stats-All-Competitions\n"
     ]
    },
    {
     "name": "stderr",
     "output_type": "stream",
     "text": []
    },
    {
     "name": "stdout",
     "output_type": "stream",
     "text": [
      "https://fbref.com/en/squads/04eea015/2020-2021/all_comps/Udinese-Stats-All-Competitions\n"
     ]
    },
    {
     "name": "stderr",
     "output_type": "stream",
     "text": []
    },
    {
     "name": "stdout",
     "output_type": "stream",
     "text": [
      "https://fbref.com/en/squads/68449f6d/2020-2021/all_comps/Spezia-Stats-All-Competitions\n"
     ]
    },
    {
     "name": "stderr",
     "output_type": "stream",
     "text": []
    },
    {
     "name": "stdout",
     "output_type": "stream",
     "text": [
      "https://fbref.com/en/squads/c4260e09/2020-2021/all_comps/Cagliari-Stats-All-Competitions\n"
     ]
    },
    {
     "name": "stderr",
     "output_type": "stream",
     "text": []
    },
    {
     "name": "stdout",
     "output_type": "stream",
     "text": [
      "https://fbref.com/en/squads/105360fe/2020-2021/all_comps/Torino-Stats-All-Competitions\n"
     ]
    },
    {
     "name": "stderr",
     "output_type": "stream",
     "text": []
    },
    {
     "name": "stdout",
     "output_type": "stream",
     "text": [
      "https://fbref.com/en/squads/4fcb34fd/2020-2021/all_comps/Benevento-Stats-All-Competitions\n"
     ]
    },
    {
     "name": "stderr",
     "output_type": "stream",
     "text": []
    },
    {
     "name": "stdout",
     "output_type": "stream",
     "text": [
      "https://fbref.com/en/squads/3074d7b1/2020-2021/all_comps/Crotone-Stats-All-Competitions\n"
     ]
    },
    {
     "name": "stderr",
     "output_type": "stream",
     "text": []
    },
    {
     "name": "stdout",
     "output_type": "stream",
     "text": [
      "https://fbref.com/en/squads/eab4234c/2020-2021/all_comps/Parma-Stats-All-Competitions\n"
     ]
    },
    {
     "name": "stderr",
     "output_type": "stream",
     "text": [
      "100%|██████████| 20/20 [03:15<00:00,  9.80s/it]\n",
      " 60%|██████    | 3/5 [09:05<06:09, 184.96s/it]"
     ]
    },
    {
     "name": "stdout",
     "output_type": "stream",
     "text": [
      "https://fbref.com/en/squads/dc56fe14/2021-2022/all_comps/Milan-Stats-All-Competitions\n"
     ]
    },
    {
     "name": "stderr",
     "output_type": "stream",
     "text": []
    },
    {
     "name": "stdout",
     "output_type": "stream",
     "text": [
      "https://fbref.com/en/squads/d609edc0/2021-2022/all_comps/Internazionale-Stats-All-Competitions\n"
     ]
    },
    {
     "name": "stderr",
     "output_type": "stream",
     "text": []
    },
    {
     "name": "stdout",
     "output_type": "stream",
     "text": [
      "https://fbref.com/en/squads/d48ad4ff/2021-2022/all_comps/Napoli-Stats-All-Competitions\n"
     ]
    },
    {
     "name": "stderr",
     "output_type": "stream",
     "text": []
    },
    {
     "name": "stdout",
     "output_type": "stream",
     "text": [
      "https://fbref.com/en/squads/e0652b02/2021-2022/all_comps/Juventus-Stats-All-Competitions\n"
     ]
    },
    {
     "name": "stderr",
     "output_type": "stream",
     "text": []
    },
    {
     "name": "stdout",
     "output_type": "stream",
     "text": [
      "https://fbref.com/en/squads/7213da33/2021-2022/all_comps/Lazio-Stats-All-Competitions\n"
     ]
    },
    {
     "name": "stderr",
     "output_type": "stream",
     "text": []
    },
    {
     "name": "stdout",
     "output_type": "stream",
     "text": [
      "https://fbref.com/en/squads/cf74a709/2021-2022/all_comps/Roma-Stats-All-Competitions\n"
     ]
    },
    {
     "name": "stderr",
     "output_type": "stream",
     "text": []
    },
    {
     "name": "stdout",
     "output_type": "stream",
     "text": [
      "https://fbref.com/en/squads/421387cf/2021-2022/all_comps/Fiorentina-Stats-All-Competitions\n"
     ]
    },
    {
     "name": "stderr",
     "output_type": "stream",
     "text": []
    },
    {
     "name": "stdout",
     "output_type": "stream",
     "text": [
      "https://fbref.com/en/squads/922493f3/2021-2022/all_comps/Atalanta-Stats-All-Competitions\n"
     ]
    },
    {
     "name": "stderr",
     "output_type": "stream",
     "text": []
    },
    {
     "name": "stdout",
     "output_type": "stream",
     "text": [
      "https://fbref.com/en/squads/0e72edf2/2021-2022/all_comps/Hellas-Verona-Stats-All-Competitions\n"
     ]
    },
    {
     "name": "stderr",
     "output_type": "stream",
     "text": []
    },
    {
     "name": "stdout",
     "output_type": "stream",
     "text": [
      "https://fbref.com/en/squads/105360fe/2021-2022/all_comps/Torino-Stats-All-Competitions\n"
     ]
    },
    {
     "name": "stderr",
     "output_type": "stream",
     "text": []
    },
    {
     "name": "stdout",
     "output_type": "stream",
     "text": [
      "https://fbref.com/en/squads/e2befd26/2021-2022/all_comps/Sassuolo-Stats-All-Competitions\n"
     ]
    },
    {
     "name": "stderr",
     "output_type": "stream",
     "text": []
    },
    {
     "name": "stdout",
     "output_type": "stream",
     "text": [
      "https://fbref.com/en/squads/04eea015/2021-2022/all_comps/Udinese-Stats-All-Competitions\n"
     ]
    },
    {
     "name": "stderr",
     "output_type": "stream",
     "text": []
    },
    {
     "name": "stdout",
     "output_type": "stream",
     "text": [
      "https://fbref.com/en/squads/1d8099f8/2021-2022/all_comps/Bologna-Stats-All-Competitions\n"
     ]
    },
    {
     "name": "stderr",
     "output_type": "stream",
     "text": []
    },
    {
     "name": "stdout",
     "output_type": "stream",
     "text": [
      "https://fbref.com/en/squads/a3d88bd8/2021-2022/all_comps/Empoli-Stats-All-Competitions\n"
     ]
    },
    {
     "name": "stderr",
     "output_type": "stream",
     "text": []
    },
    {
     "name": "stdout",
     "output_type": "stream",
     "text": [
      "https://fbref.com/en/squads/8ff9e3b3/2021-2022/all_comps/Sampdoria-Stats-All-Competitions\n"
     ]
    },
    {
     "name": "stderr",
     "output_type": "stream",
     "text": []
    },
    {
     "name": "stdout",
     "output_type": "stream",
     "text": [
      "https://fbref.com/en/squads/68449f6d/2021-2022/all_comps/Spezia-Stats-All-Competitions\n"
     ]
    },
    {
     "name": "stderr",
     "output_type": "stream",
     "text": []
    },
    {
     "name": "stdout",
     "output_type": "stream",
     "text": [
      "https://fbref.com/en/squads/c5577084/2021-2022/all_comps/Salernitana-Stats-All-Competitions\n"
     ]
    },
    {
     "name": "stderr",
     "output_type": "stream",
     "text": []
    },
    {
     "name": "stdout",
     "output_type": "stream",
     "text": [
      "https://fbref.com/en/squads/c4260e09/2021-2022/all_comps/Cagliari-Stats-All-Competitions\n"
     ]
    },
    {
     "name": "stderr",
     "output_type": "stream",
     "text": []
    },
    {
     "name": "stdout",
     "output_type": "stream",
     "text": [
      "https://fbref.com/en/squads/658bf2de/2021-2022/all_comps/Genoa-Stats-All-Competitions\n"
     ]
    },
    {
     "name": "stderr",
     "output_type": "stream",
     "text": []
    },
    {
     "name": "stdout",
     "output_type": "stream",
     "text": [
      "https://fbref.com/en/squads/af5d5982/2021-2022/all_comps/Venezia-Stats-All-Competitions\n"
     ]
    },
    {
     "name": "stderr",
     "output_type": "stream",
     "text": [
      "100%|██████████| 20/20 [02:31<00:00,  7.57s/it]\n",
      " 80%|████████  | 4/5 [11:36<02:51, 171.69s/it]"
     ]
    },
    {
     "name": "stdout",
     "output_type": "stream",
     "text": [
      "https://fbref.com/en/squads/d48ad4ff/2022-2023/all_comps/Napoli-Stats-All-Competitions\n"
     ]
    },
    {
     "name": "stderr",
     "output_type": "stream",
     "text": []
    },
    {
     "name": "stdout",
     "output_type": "stream",
     "text": [
      "https://fbref.com/en/squads/7213da33/2022-2023/all_comps/Lazio-Stats-All-Competitions\n"
     ]
    },
    {
     "name": "stderr",
     "output_type": "stream",
     "text": []
    },
    {
     "name": "stdout",
     "output_type": "stream",
     "text": [
      "https://fbref.com/en/squads/d609edc0/2022-2023/all_comps/Internazionale-Stats-All-Competitions\n"
     ]
    },
    {
     "name": "stderr",
     "output_type": "stream",
     "text": []
    },
    {
     "name": "stdout",
     "output_type": "stream",
     "text": [
      "https://fbref.com/en/squads/dc56fe14/2022-2023/all_comps/Milan-Stats-All-Competitions\n"
     ]
    },
    {
     "name": "stderr",
     "output_type": "stream",
     "text": []
    },
    {
     "name": "stdout",
     "output_type": "stream",
     "text": [
      "https://fbref.com/en/squads/922493f3/2022-2023/all_comps/Atalanta-Stats-All-Competitions\n"
     ]
    },
    {
     "name": "stderr",
     "output_type": "stream",
     "text": []
    },
    {
     "name": "stdout",
     "output_type": "stream",
     "text": [
      "https://fbref.com/en/squads/cf74a709/2022-2023/all_comps/Roma-Stats-All-Competitions\n"
     ]
    },
    {
     "name": "stderr",
     "output_type": "stream",
     "text": []
    },
    {
     "name": "stdout",
     "output_type": "stream",
     "text": [
      "https://fbref.com/en/squads/e0652b02/2022-2023/all_comps/Juventus-Stats-All-Competitions\n"
     ]
    },
    {
     "name": "stderr",
     "output_type": "stream",
     "text": []
    },
    {
     "name": "stdout",
     "output_type": "stream",
     "text": [
      "https://fbref.com/en/squads/421387cf/2022-2023/all_comps/Fiorentina-Stats-All-Competitions\n"
     ]
    },
    {
     "name": "stderr",
     "output_type": "stream",
     "text": []
    },
    {
     "name": "stdout",
     "output_type": "stream",
     "text": [
      "https://fbref.com/en/squads/1d8099f8/2022-2023/all_comps/Bologna-Stats-All-Competitions\n"
     ]
    },
    {
     "name": "stderr",
     "output_type": "stream",
     "text": []
    },
    {
     "name": "stdout",
     "output_type": "stream",
     "text": [
      "https://fbref.com/en/squads/105360fe/2022-2023/all_comps/Torino-Stats-All-Competitions\n"
     ]
    },
    {
     "name": "stderr",
     "output_type": "stream",
     "text": []
    },
    {
     "name": "stdout",
     "output_type": "stream",
     "text": [
      "https://fbref.com/en/squads/21680aa4/2022-2023/all_comps/Monza-Stats-All-Competitions\n"
     ]
    },
    {
     "name": "stderr",
     "output_type": "stream",
     "text": []
    },
    {
     "name": "stdout",
     "output_type": "stream",
     "text": [
      "https://fbref.com/en/squads/04eea015/2022-2023/all_comps/Udinese-Stats-All-Competitions\n"
     ]
    },
    {
     "name": "stderr",
     "output_type": "stream",
     "text": []
    },
    {
     "name": "stdout",
     "output_type": "stream",
     "text": [
      "https://fbref.com/en/squads/e2befd26/2022-2023/all_comps/Sassuolo-Stats-All-Competitions\n"
     ]
    },
    {
     "name": "stderr",
     "output_type": "stream",
     "text": []
    },
    {
     "name": "stdout",
     "output_type": "stream",
     "text": [
      "https://fbref.com/en/squads/a3d88bd8/2022-2023/all_comps/Empoli-Stats-All-Competitions\n"
     ]
    },
    {
     "name": "stderr",
     "output_type": "stream",
     "text": []
    },
    {
     "name": "stdout",
     "output_type": "stream",
     "text": [
      "https://fbref.com/en/squads/c5577084/2022-2023/all_comps/Salernitana-Stats-All-Competitions\n"
     ]
    },
    {
     "name": "stderr",
     "output_type": "stream",
     "text": []
    },
    {
     "name": "stdout",
     "output_type": "stream",
     "text": [
      "https://fbref.com/en/squads/ffcbe334/2022-2023/all_comps/Lecce-Stats-All-Competitions\n"
     ]
    },
    {
     "name": "stderr",
     "output_type": "stream",
     "text": []
    },
    {
     "name": "stdout",
     "output_type": "stream",
     "text": [
      "https://fbref.com/en/squads/68449f6d/2022-2023/all_comps/Spezia-Stats-All-Competitions\n"
     ]
    },
    {
     "name": "stderr",
     "output_type": "stream",
     "text": []
    },
    {
     "name": "stdout",
     "output_type": "stream",
     "text": [
      "https://fbref.com/en/squads/0e72edf2/2022-2023/all_comps/Hellas-Verona-Stats-All-Competitions\n"
     ]
    },
    {
     "name": "stderr",
     "output_type": "stream",
     "text": []
    },
    {
     "name": "stdout",
     "output_type": "stream",
     "text": [
      "https://fbref.com/en/squads/9aad3a77/2022-2023/all_comps/Cremonese-Stats-All-Competitions\n"
     ]
    },
    {
     "name": "stderr",
     "output_type": "stream",
     "text": []
    },
    {
     "name": "stdout",
     "output_type": "stream",
     "text": [
      "https://fbref.com/en/squads/8ff9e3b3/2022-2023/all_comps/Sampdoria-Stats-All-Competitions\n"
     ]
    },
    {
     "name": "stderr",
     "output_type": "stream",
     "text": [
      "100%|██████████| 20/20 [02:33<00:00,  7.67s/it]\n",
      "100%|██████████| 5/5 [14:10<00:00, 170.06s/it]\n"
     ]
    }
   ],
   "source": [
    "from tqdm import tqdm\n",
    "players = {}\n",
    "\n",
    "for index, anno in tqdm(enumerate(seriea), total=len(seriea)):\n",
    "    players[f\"{years[index]}\"] = {}\n",
    "    for squadra in tqdm(anno, total=len(anno)):\n",
    "        URL = f\"https://fbref.com{squadra}\"\n",
    "        parts = URL.split('/')\n",
    "        parts[-1] = f\"all_comps/{squadra.split('/')[-1]}-All-Competitions\"\n",
    "        new_url = '/'.join(parts)\n",
    "        print(new_url)\n",
    "        # wait 1 second before making the request\n",
    "        import time\n",
    "        time.sleep(1)\n",
    "        page = requests.get(new_url)\n",
    "        soup = BeautifulSoup(page.content, \"html.parser\")\n",
    "        table = soup.find(id=\"stats_standard_combined\")\n",
    "        try:\n",
    "            players[f\"{years[index]}\"][f'{squadra.split('/')[-1].split(\"-\")[0]}'] = pd.read_html(str(table))\n",
    "        except Exception as e:\n",
    "            print(e)\n",
    "            # players[f\"{years[index]}\"][f'{squadra.split('/')[-1].split(\"-\")[0]}'] = pd.DataFrame()"
   ]
  },
  {
   "cell_type": "code",
   "execution_count": 18,
   "id": "51bdb3ff",
   "metadata": {},
   "outputs": [],
   "source": [
    "import os\n",
    "for anno, squadre in players.items():\n",
    "    for squadra, df in squadre.items():\n",
    "        if not os.path.exists(f\"data/seriea/{anno}\"):\n",
    "            os.makedirs(f\"data/seriea/{anno}\")\n",
    "        df[0].to_csv(f\"data/seriea/{anno}/{squadra}.csv\", index=False)"
   ]
  }
 ],
 "metadata": {
  "kaggle": {
   "accelerator": "none",
   "dataSources": [],
   "isGpuEnabled": false,
   "isInternetEnabled": true,
   "language": "python",
   "sourceType": "notebook"
  },
  "kernelspec": {
   "display_name": "Python 3",
   "language": "python",
   "name": "python3"
  },
  "language_info": {
   "codemirror_mode": {
    "name": "ipython",
    "version": 3
   },
   "file_extension": ".py",
   "mimetype": "text/x-python",
   "name": "python",
   "nbconvert_exporter": "python",
   "pygments_lexer": "ipython3",
   "version": "3.12.2"
  },
  "papermill": {
   "default_parameters": {},
   "duration": 4.152526,
   "end_time": "2024-02-18T14:06:44.423502",
   "environment_variables": {},
   "exception": null,
   "input_path": "__notebook__.ipynb",
   "output_path": "__notebook__.ipynb",
   "parameters": {},
   "start_time": "2024-02-18T14:06:40.270976",
   "version": "2.5.0"
  }
 },
 "nbformat": 4,
 "nbformat_minor": 5
}
