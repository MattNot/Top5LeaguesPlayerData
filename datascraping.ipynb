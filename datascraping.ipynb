{
 "cells": [
  {
   "cell_type": "code",
   "execution_count": 1,
   "id": "78c84aeb",
   "metadata": {
    "_cell_guid": "98b3a507-b138-481c-8ef7-ebae9ad6be0b",
    "_uuid": "c03198ad-1796-4423-9e75-f6efbf9aaeaa",
    "collapsed": false,
    "execution": {
     "iopub.execute_input": "2024-02-18T13:20:12.058221Z",
     "iopub.status.busy": "2024-02-18T13:20:12.057882Z",
     "iopub.status.idle": "2024-02-18T13:20:12.062331Z",
     "shell.execute_reply": "2024-02-18T13:20:12.061581Z"
    },
    "jupyter": {
     "outputs_hidden": false
    },
    "papermill": {
     "duration": 0.010097,
     "end_time": "2024-02-18T13:20:12.064185",
     "exception": false,
     "start_time": "2024-02-18T13:20:12.054088",
     "status": "completed"
    },
    "tags": []
   },
   "outputs": [],
   "source": [
    "# This Python 3 environment comes with many helpful analytics libraries installed\n",
    "# It is defined by the kaggle/python Docker image: https://github.com/kaggle/docker-python\n",
    "# For example, here's several helpful packages to load\n",
    "# Input data files are available in the read-only \"../input/\" directory\n",
    "# For example, running this (by clicking run or pressing Shift+Enter) will list all files under the input directory\n",
    "# You can write up to 20GB to the current directory (/kaggle/working/) that gets preserved as output when you create a version using \"Save & Run All\" \n",
    "# You can also write temporary files to /kaggle/temp/, but they won't be saved outside of the current session"
   ]
  },
  {
   "cell_type": "code",
   "execution_count": 2,
   "id": "ff917c88",
   "metadata": {
    "_cell_guid": "81179c5d-c9ec-48bc-9df4-cb99768af478",
    "_uuid": "d87e6a1e-4a3b-4bdc-8967-ae4367559b9d",
    "collapsed": false,
    "execution": {
     "iopub.execute_input": "2024-02-18T13:20:12.068492Z",
     "iopub.status.busy": "2024-02-18T13:20:12.068216Z",
     "iopub.status.idle": "2024-02-18T13:20:12.805789Z",
     "shell.execute_reply": "2024-02-18T13:20:12.804862Z"
    },
    "jupyter": {
     "outputs_hidden": false
    },
    "papermill": {
     "duration": 0.742281,
     "end_time": "2024-02-18T13:20:12.808305",
     "exception": false,
     "start_time": "2024-02-18T13:20:12.066024",
     "status": "completed"
    },
    "tags": []
   },
   "outputs": [],
   "source": [
    "import numpy as np # linear algebra\n",
    "import pandas as pd # data processing, CSV file I/O (e.g. pd.read_csv)"
   ]
  }
 ],
 "metadata": {
  "kaggle": {
   "accelerator": "none",
   "dataSources": [],
   "dockerImageVersionId": 30646,
   "isGpuEnabled": false,
   "isInternetEnabled": false,
   "language": "python",
   "sourceType": "notebook"
  },
  "kernelspec": {
   "display_name": "Python 3",
   "language": "python",
   "name": "python3"
  },
  "language_info": {
   "codemirror_mode": {
    "name": "ipython",
    "version": 3
   },
   "file_extension": ".py",
   "mimetype": "text/x-python",
   "name": "python",
   "nbconvert_exporter": "python",
   "pygments_lexer": "ipython3",
   "version": "3.10.13"
  },
  "papermill": {
   "default_parameters": {},
   "duration": 3.348876,
   "end_time": "2024-02-18T13:20:13.129628",
   "environment_variables": {},
   "exception": null,
   "input_path": "__notebook__.ipynb",
   "output_path": "__notebook__.ipynb",
   "parameters": {},
   "start_time": "2024-02-18T13:20:09.780752",
   "version": "2.5.0"
  }
 },
 "nbformat": 4,
 "nbformat_minor": 5
}
