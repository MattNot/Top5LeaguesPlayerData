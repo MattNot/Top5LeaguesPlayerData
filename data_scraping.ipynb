{
 "cells": [
  {
   "cell_type": "code",
   "execution_count": 2,
   "id": "fc228b66",
   "metadata": {},
   "outputs": [
    {
     "name": "stdout",
     "output_type": "stream",
     "text": [
      "Requirement already satisfied: selenium in c:\\users\\matteo\\anaconda3\\envs\\top5player\\lib\\site-packages (from -r requirements.txt (line 1)) (4.17.2)\n",
      "Requirement already satisfied: pandas in c:\\users\\matteo\\anaconda3\\envs\\top5player\\lib\\site-packages (from -r requirements.txt (line 2)) (2.2.0)\n",
      "Requirement already satisfied: pyarrow in c:\\users\\matteo\\anaconda3\\envs\\top5player\\lib\\site-packages (from -r requirements.txt (line 3)) (15.0.0)\n",
      "Requirement already satisfied: beautifulsoup4 in c:\\users\\matteo\\anaconda3\\envs\\top5player\\lib\\site-packages (from -r requirements.txt (line 4)) (4.12.3)\n",
      "Requirement already satisfied: requests in c:\\users\\matteo\\anaconda3\\envs\\top5player\\lib\\site-packages (from -r requirements.txt (line 5)) (2.31.0)\n",
      "Requirement already satisfied: lxml in c:\\users\\matteo\\anaconda3\\envs\\top5player\\lib\\site-packages (from -r requirements.txt (line 6)) (5.1.0)\n",
      "Requirement already satisfied: html5lib in c:\\users\\matteo\\anaconda3\\envs\\top5player\\lib\\site-packages (from -r requirements.txt (line 7)) (1.1)\n",
      "Requirement already satisfied: tqdm in c:\\users\\matteo\\anaconda3\\envs\\top5player\\lib\\site-packages (from -r requirements.txt (line 8)) (4.66.2)\n",
      "Collecting ipywidgets (from -r requirements.txt (line 9))\n",
      "  Downloading ipywidgets-8.1.2-py3-none-any.whl.metadata (2.4 kB)\n",
      "Collecting widgetsnbextension (from -r requirements.txt (line 10))\n",
      "  Downloading widgetsnbextension-4.0.10-py3-none-any.whl.metadata (1.6 kB)\n",
      "Requirement already satisfied: urllib3<3,>=1.26 in c:\\users\\matteo\\anaconda3\\envs\\top5player\\lib\\site-packages (from urllib3[socks]<3,>=1.26->selenium->-r requirements.txt (line 1)) (2.2.1)\n",
      "Requirement already satisfied: trio~=0.17 in c:\\users\\matteo\\anaconda3\\envs\\top5player\\lib\\site-packages (from selenium->-r requirements.txt (line 1)) (0.24.0)\n",
      "Requirement already satisfied: trio-websocket~=0.9 in c:\\users\\matteo\\anaconda3\\envs\\top5player\\lib\\site-packages (from selenium->-r requirements.txt (line 1)) (0.11.1)\n",
      "Requirement already satisfied: certifi>=2021.10.8 in c:\\users\\matteo\\anaconda3\\envs\\top5player\\lib\\site-packages (from selenium->-r requirements.txt (line 1)) (2024.2.2)\n",
      "Requirement already satisfied: typing_extensions>=4.9.0 in c:\\users\\matteo\\anaconda3\\envs\\top5player\\lib\\site-packages (from selenium->-r requirements.txt (line 1)) (4.9.0)\n",
      "Requirement already satisfied: numpy<2,>=1.26.0 in c:\\users\\matteo\\anaconda3\\envs\\top5player\\lib\\site-packages (from pandas->-r requirements.txt (line 2)) (1.26.4)\n",
      "Requirement already satisfied: python-dateutil>=2.8.2 in c:\\users\\matteo\\anaconda3\\envs\\top5player\\lib\\site-packages (from pandas->-r requirements.txt (line 2)) (2.8.2)\n",
      "Requirement already satisfied: pytz>=2020.1 in c:\\users\\matteo\\anaconda3\\envs\\top5player\\lib\\site-packages (from pandas->-r requirements.txt (line 2)) (2024.1)\n",
      "Requirement already satisfied: tzdata>=2022.7 in c:\\users\\matteo\\anaconda3\\envs\\top5player\\lib\\site-packages (from pandas->-r requirements.txt (line 2)) (2024.1)\n",
      "Requirement already satisfied: soupsieve>1.2 in c:\\users\\matteo\\anaconda3\\envs\\top5player\\lib\\site-packages (from beautifulsoup4->-r requirements.txt (line 4)) (2.5)\n",
      "Requirement already satisfied: charset-normalizer<4,>=2 in c:\\users\\matteo\\anaconda3\\envs\\top5player\\lib\\site-packages (from requests->-r requirements.txt (line 5)) (3.3.2)\n",
      "Requirement already satisfied: idna<4,>=2.5 in c:\\users\\matteo\\anaconda3\\envs\\top5player\\lib\\site-packages (from requests->-r requirements.txt (line 5)) (3.6)\n",
      "Requirement already satisfied: six>=1.9 in c:\\users\\matteo\\anaconda3\\envs\\top5player\\lib\\site-packages (from html5lib->-r requirements.txt (line 7)) (1.16.0)\n",
      "Requirement already satisfied: webencodings in c:\\users\\matteo\\anaconda3\\envs\\top5player\\lib\\site-packages (from html5lib->-r requirements.txt (line 7)) (0.5.1)\n",
      "Requirement already satisfied: colorama in c:\\users\\matteo\\anaconda3\\envs\\top5player\\lib\\site-packages (from tqdm->-r requirements.txt (line 8)) (0.4.6)\n",
      "Requirement already satisfied: comm>=0.1.3 in c:\\users\\matteo\\anaconda3\\envs\\top5player\\lib\\site-packages (from ipywidgets->-r requirements.txt (line 9)) (0.2.1)\n",
      "Requirement already satisfied: ipython>=6.1.0 in c:\\users\\matteo\\anaconda3\\envs\\top5player\\lib\\site-packages (from ipywidgets->-r requirements.txt (line 9)) (8.21.0)\n",
      "Requirement already satisfied: traitlets>=4.3.1 in c:\\users\\matteo\\anaconda3\\envs\\top5player\\lib\\site-packages (from ipywidgets->-r requirements.txt (line 9)) (5.14.1)\n",
      "Collecting jupyterlab-widgets~=3.0.10 (from ipywidgets->-r requirements.txt (line 9))\n",
      "  Downloading jupyterlab_widgets-3.0.10-py3-none-any.whl.metadata (4.1 kB)\n",
      "Requirement already satisfied: decorator in c:\\users\\matteo\\anaconda3\\envs\\top5player\\lib\\site-packages (from ipython>=6.1.0->ipywidgets->-r requirements.txt (line 9)) (5.1.1)\n",
      "Requirement already satisfied: jedi>=0.16 in c:\\users\\matteo\\anaconda3\\envs\\top5player\\lib\\site-packages (from ipython>=6.1.0->ipywidgets->-r requirements.txt (line 9)) (0.19.1)\n",
      "Requirement already satisfied: matplotlib-inline in c:\\users\\matteo\\anaconda3\\envs\\top5player\\lib\\site-packages (from ipython>=6.1.0->ipywidgets->-r requirements.txt (line 9)) (0.1.6)\n",
      "Requirement already satisfied: prompt-toolkit<3.1.0,>=3.0.41 in c:\\users\\matteo\\anaconda3\\envs\\top5player\\lib\\site-packages (from ipython>=6.1.0->ipywidgets->-r requirements.txt (line 9)) (3.0.42)\n",
      "Requirement already satisfied: pygments>=2.4.0 in c:\\users\\matteo\\anaconda3\\envs\\top5player\\lib\\site-packages (from ipython>=6.1.0->ipywidgets->-r requirements.txt (line 9)) (2.17.2)\n",
      "Requirement already satisfied: stack-data in c:\\users\\matteo\\anaconda3\\envs\\top5player\\lib\\site-packages (from ipython>=6.1.0->ipywidgets->-r requirements.txt (line 9)) (0.6.2)\n",
      "Requirement already satisfied: attrs>=20.1.0 in c:\\users\\matteo\\anaconda3\\envs\\top5player\\lib\\site-packages (from trio~=0.17->selenium->-r requirements.txt (line 1)) (23.2.0)\n",
      "Requirement already satisfied: sortedcontainers in c:\\users\\matteo\\anaconda3\\envs\\top5player\\lib\\site-packages (from trio~=0.17->selenium->-r requirements.txt (line 1)) (2.4.0)\n",
      "Requirement already satisfied: outcome in c:\\users\\matteo\\anaconda3\\envs\\top5player\\lib\\site-packages (from trio~=0.17->selenium->-r requirements.txt (line 1)) (1.3.0.post0)\n",
      "Requirement already satisfied: sniffio>=1.3.0 in c:\\users\\matteo\\anaconda3\\envs\\top5player\\lib\\site-packages (from trio~=0.17->selenium->-r requirements.txt (line 1)) (1.3.0)\n",
      "Requirement already satisfied: cffi>=1.14 in c:\\users\\matteo\\anaconda3\\envs\\top5player\\lib\\site-packages (from trio~=0.17->selenium->-r requirements.txt (line 1)) (1.16.0)\n",
      "Requirement already satisfied: wsproto>=0.14 in c:\\users\\matteo\\anaconda3\\envs\\top5player\\lib\\site-packages (from trio-websocket~=0.9->selenium->-r requirements.txt (line 1)) (1.2.0)\n",
      "Requirement already satisfied: pysocks!=1.5.7,<2.0,>=1.5.6 in c:\\users\\matteo\\anaconda3\\envs\\top5player\\lib\\site-packages (from urllib3[socks]<3,>=1.26->selenium->-r requirements.txt (line 1)) (1.7.1)\n",
      "Requirement already satisfied: pycparser in c:\\users\\matteo\\anaconda3\\envs\\top5player\\lib\\site-packages (from cffi>=1.14->trio~=0.17->selenium->-r requirements.txt (line 1)) (2.21)\n",
      "Requirement already satisfied: parso<0.9.0,>=0.8.3 in c:\\users\\matteo\\anaconda3\\envs\\top5player\\lib\\site-packages (from jedi>=0.16->ipython>=6.1.0->ipywidgets->-r requirements.txt (line 9)) (0.8.3)\n",
      "Requirement already satisfied: wcwidth in c:\\users\\matteo\\anaconda3\\envs\\top5player\\lib\\site-packages (from prompt-toolkit<3.1.0,>=3.0.41->ipython>=6.1.0->ipywidgets->-r requirements.txt (line 9)) (0.2.13)\n",
      "Requirement already satisfied: h11<1,>=0.9.0 in c:\\users\\matteo\\anaconda3\\envs\\top5player\\lib\\site-packages (from wsproto>=0.14->trio-websocket~=0.9->selenium->-r requirements.txt (line 1)) (0.14.0)\n",
      "Requirement already satisfied: executing>=1.2.0 in c:\\users\\matteo\\anaconda3\\envs\\top5player\\lib\\site-packages (from stack-data->ipython>=6.1.0->ipywidgets->-r requirements.txt (line 9)) (2.0.1)\n",
      "Requirement already satisfied: asttokens>=2.1.0 in c:\\users\\matteo\\anaconda3\\envs\\top5player\\lib\\site-packages (from stack-data->ipython>=6.1.0->ipywidgets->-r requirements.txt (line 9)) (2.4.1)\n",
      "Requirement already satisfied: pure-eval in c:\\users\\matteo\\anaconda3\\envs\\top5player\\lib\\site-packages (from stack-data->ipython>=6.1.0->ipywidgets->-r requirements.txt (line 9)) (0.2.2)\n",
      "Downloading ipywidgets-8.1.2-py3-none-any.whl (139 kB)\n",
      "   ---------------------------------------- 0.0/139.4 kB ? eta -:--:--\n",
      "   -- ------------------------------------- 10.2/139.4 kB ? eta -:--:--\n",
      "   -------- ------------------------------ 30.7/139.4 kB 640.0 kB/s eta 0:00:01\n",
      "   ------------------------- ------------- 92.2/139.4 kB 871.5 kB/s eta 0:00:01\n",
      "   ---------------------------------------- 139.4/139.4 kB 1.0 MB/s eta 0:00:00\n",
      "Downloading widgetsnbextension-4.0.10-py3-none-any.whl (2.3 MB)\n",
      "   ---------------------------------------- 0.0/2.3 MB ? eta -:--:--\n",
      "   - -------------------------------------- 0.1/2.3 MB 2.0 MB/s eta 0:00:02\n",
      "   --- ------------------------------------ 0.2/2.3 MB 2.8 MB/s eta 0:00:01\n",
      "   ----- ---------------------------------- 0.3/2.3 MB 2.4 MB/s eta 0:00:01\n",
      "   -------- ------------------------------- 0.5/2.3 MB 2.6 MB/s eta 0:00:01\n",
      "   ---------- ----------------------------- 0.6/2.3 MB 2.8 MB/s eta 0:00:01\n",
      "   ------------ --------------------------- 0.7/2.3 MB 2.7 MB/s eta 0:00:01\n",
      "   ------------- -------------------------- 0.8/2.3 MB 2.5 MB/s eta 0:00:01\n",
      "   --------------- ------------------------ 0.9/2.3 MB 2.4 MB/s eta 0:00:01\n",
      "   ----------------- ---------------------- 1.0/2.3 MB 2.5 MB/s eta 0:00:01\n",
      "   ------------------ --------------------- 1.1/2.3 MB 2.4 MB/s eta 0:00:01\n",
      "   --------------------- ------------------ 1.3/2.3 MB 2.5 MB/s eta 0:00:01\n",
      "   ----------------------- ---------------- 1.4/2.3 MB 2.5 MB/s eta 0:00:01\n",
      "   ------------------------- -------------- 1.5/2.3 MB 2.4 MB/s eta 0:00:01\n",
      "   ---------------------------- ----------- 1.7/2.3 MB 2.6 MB/s eta 0:00:01\n",
      "   ------------------------------ --------- 1.7/2.3 MB 2.5 MB/s eta 0:00:01\n",
      "   ------------------------------ --------- 1.7/2.3 MB 2.4 MB/s eta 0:00:01\n",
      "   --------------------------------- ------ 1.9/2.3 MB 2.5 MB/s eta 0:00:01\n",
      "   ----------------------------------- ---- 2.0/2.3 MB 2.4 MB/s eta 0:00:01\n",
      "   ------------------------------------- -- 2.1/2.3 MB 2.5 MB/s eta 0:00:01\n",
      "   -------------------------------------- - 2.2/2.3 MB 2.4 MB/s eta 0:00:01\n",
      "   ---------------------------------------  2.3/2.3 MB 2.4 MB/s eta 0:00:01\n",
      "   ---------------------------------------- 2.3/2.3 MB 2.3 MB/s eta 0:00:00\n",
      "Downloading jupyterlab_widgets-3.0.10-py3-none-any.whl (215 kB)\n",
      "   ---------------------------------------- 0.0/215.0 kB ? eta -:--:--\n",
      "   ----------- ---------------------------- 61.4/215.0 kB 3.2 MB/s eta 0:00:01\n",
      "   -------------------- ------------------- 112.6/215.0 kB 1.6 MB/s eta 0:00:01\n",
      "   ---------------------------------------- 215.0/215.0 kB 2.2 MB/s eta 0:00:00\n",
      "Installing collected packages: widgetsnbextension, jupyterlab-widgets, ipywidgets\n",
      "Successfully installed ipywidgets-8.1.2 jupyterlab-widgets-3.0.10 widgetsnbextension-4.0.10\n",
      "Note: you may need to restart the kernel to use updated packages.\n"
     ]
    }
   ],
   "source": [
    "%pip install -r requirements.txt"
   ]
  },
  {
   "cell_type": "code",
   "execution_count": 1,
   "id": "72b19336",
   "metadata": {
    "_cell_guid": "b1076dfc-b9ad-4769-8c92-a6c4dae69d19",
    "_uuid": "8f2839f25d086af736a60e9eeb907d3b93b6e0e5",
    "execution": {
     "iopub.execute_input": "2024-02-18T14:06:43.102524Z",
     "iopub.status.busy": "2024-02-18T14:06:43.101867Z",
     "iopub.status.idle": "2024-02-18T14:06:43.997657Z",
     "shell.execute_reply": "2024-02-18T14:06:43.996559Z"
    },
    "papermill": {
     "duration": 0.902082,
     "end_time": "2024-02-18T14:06:44.000321",
     "exception": false,
     "start_time": "2024-02-18T14:06:43.098239",
     "status": "completed"
    },
    "tags": []
   },
   "outputs": [],
   "source": [
    "# This Python 3 environment comes with many helpful analytics libraries installed\n",
    "# It is defined by the kaggle/python Docker image: https://github.com/kaggle/docker-python\n",
    "# For example, here's several helpful packages to load\n",
    "import warnings\n",
    "warnings.simplefilter(action='ignore', category=FutureWarning)\n",
    "\n",
    "import numpy as np # linear algebra\n",
    "import pandas as pd # data processing, CSV file I/O (e.g. pd.read_csv)\n",
    "\n",
    "# Input data files are available in the read-only \"../input/\" directory\n",
    "# For example, running this (by clicking run or pressing Shift+Enter) will list all files under the input directory\n",
    "\n",
    "# You can write up to 20GB to the current directory (/kaggle/working/) that gets preserved as output when you create a version using \"Save & Run All\" \n",
    "# You can also write temporary files to /kaggle/temp/, but they won't be saved outside of the current session"
   ]
  },
  {
   "cell_type": "code",
   "execution_count": 2,
   "id": "625744f4",
   "metadata": {},
   "outputs": [
    {
     "data": {
      "application/vnd.jupyter.widget-view+json": {
       "model_id": "9f58a3b85fb34cc9b6443d2733520212",
       "version_major": 2,
       "version_minor": 0
      },
      "text/plain": [
       "  0%|          | 0/4 [00:00<?, ?it/s]"
      ]
     },
     "metadata": {},
     "output_type": "display_data"
    },
    {
     "data": {
      "application/vnd.jupyter.widget-view+json": {
       "model_id": "ff71264304ab4d66b59e6b08e77fbaab",
       "version_major": 2,
       "version_minor": 0
      },
      "text/plain": [
       "  0%|          | 0/5 [00:00<?, ?it/s]"
      ]
     },
     "metadata": {},
     "output_type": "display_data"
    },
    {
     "data": {
      "application/vnd.jupyter.widget-view+json": {
       "model_id": "d0489f854c6c4d3a843c01a81d58ba2f",
       "version_major": 2,
       "version_minor": 0
      },
      "text/plain": [
       "  0%|          | 0/20 [00:00<?, ?it/s]"
      ]
     },
     "metadata": {},
     "output_type": "display_data"
    },
    {
     "name": "stdout",
     "output_type": "stream",
     "text": [
      "https://fbref.com/en/squads/b8fd03ef/2018-2019/all_comps/Manchester-City-Stats-All-Competitions\n",
      "https://fbref.com/en/squads/822bd0ba/2018-2019/all_comps/Liverpool-Stats-All-Competitions\n",
      "https://fbref.com/en/squads/cff3d9bb/2018-2019/all_comps/Chelsea-Stats-All-Competitions\n",
      "https://fbref.com/en/squads/361ca564/2018-2019/all_comps/Tottenham-Hotspur-Stats-All-Competitions\n",
      "https://fbref.com/en/squads/18bb7c10/2018-2019/all_comps/Arsenal-Stats-All-Competitions\n",
      "https://fbref.com/en/squads/19538871/2018-2019/all_comps/Manchester-United-Stats-All-Competitions\n",
      "https://fbref.com/en/squads/8cec06e1/2018-2019/all_comps/Wolverhampton-Wanderers-Stats-All-Competitions\n",
      "https://fbref.com/en/squads/d3fd31cc/2018-2019/all_comps/Everton-Stats-All-Competitions\n",
      "https://fbref.com/en/squads/a2d435b3/2018-2019/all_comps/Leicester-City-Stats-All-Competitions\n",
      "https://fbref.com/en/squads/7c21e445/2018-2019/all_comps/West-Ham-United-Stats-All-Competitions\n",
      "https://fbref.com/en/squads/2abfe087/2018-2019/all_comps/Watford-Stats-All-Competitions\n",
      "https://fbref.com/en/squads/47c64c55/2018-2019/all_comps/Crystal-Palace-Stats-All-Competitions\n",
      "https://fbref.com/en/squads/b2b47a98/2018-2019/all_comps/Newcastle-United-Stats-All-Competitions\n",
      "https://fbref.com/en/squads/4ba7cbea/2018-2019/all_comps/Bournemouth-Stats-All-Competitions\n",
      "https://fbref.com/en/squads/943e8050/2018-2019/all_comps/Burnley-Stats-All-Competitions\n",
      "https://fbref.com/en/squads/33c895d4/2018-2019/all_comps/Southampton-Stats-All-Competitions\n",
      "https://fbref.com/en/squads/d07537b9/2018-2019/all_comps/Brighton-and-Hove-Albion-Stats-All-Competitions\n",
      "https://fbref.com/en/squads/75fae011/2018-2019/all_comps/Cardiff-City-Stats-All-Competitions\n",
      "https://fbref.com/en/squads/fd962109/2018-2019/all_comps/Fulham-Stats-All-Competitions\n",
      "https://fbref.com/en/squads/f5922ca5/2018-2019/all_comps/Huddersfield-Town-Stats-All-Competitions\n"
     ]
    },
    {
     "data": {
      "application/vnd.jupyter.widget-view+json": {
       "model_id": "ca77fd587688497d9afc537cf2f9e220",
       "version_major": 2,
       "version_minor": 0
      },
      "text/plain": [
       "  0%|          | 0/20 [00:00<?, ?it/s]"
      ]
     },
     "metadata": {},
     "output_type": "display_data"
    },
    {
     "name": "stdout",
     "output_type": "stream",
     "text": [
      "https://fbref.com/en/squads/822bd0ba/2019-2020/all_comps/Liverpool-Stats-All-Competitions\n",
      "https://fbref.com/en/squads/b8fd03ef/2019-2020/all_comps/Manchester-City-Stats-All-Competitions\n",
      "https://fbref.com/en/squads/19538871/2019-2020/all_comps/Manchester-United-Stats-All-Competitions\n",
      "https://fbref.com/en/squads/cff3d9bb/2019-2020/all_comps/Chelsea-Stats-All-Competitions\n",
      "https://fbref.com/en/squads/a2d435b3/2019-2020/all_comps/Leicester-City-Stats-All-Competitions\n",
      "https://fbref.com/en/squads/361ca564/2019-2020/all_comps/Tottenham-Hotspur-Stats-All-Competitions\n",
      "https://fbref.com/en/squads/8cec06e1/2019-2020/all_comps/Wolverhampton-Wanderers-Stats-All-Competitions\n",
      "https://fbref.com/en/squads/18bb7c10/2019-2020/all_comps/Arsenal-Stats-All-Competitions\n",
      "https://fbref.com/en/squads/1df6b87e/2019-2020/all_comps/Sheffield-United-Stats-All-Competitions\n",
      "https://fbref.com/en/squads/943e8050/2019-2020/all_comps/Burnley-Stats-All-Competitions\n",
      "https://fbref.com/en/squads/33c895d4/2019-2020/all_comps/Southampton-Stats-All-Competitions\n",
      "https://fbref.com/en/squads/d3fd31cc/2019-2020/all_comps/Everton-Stats-All-Competitions\n",
      "https://fbref.com/en/squads/b2b47a98/2019-2020/all_comps/Newcastle-United-Stats-All-Competitions\n",
      "https://fbref.com/en/squads/47c64c55/2019-2020/all_comps/Crystal-Palace-Stats-All-Competitions\n",
      "https://fbref.com/en/squads/d07537b9/2019-2020/all_comps/Brighton-and-Hove-Albion-Stats-All-Competitions\n",
      "https://fbref.com/en/squads/7c21e445/2019-2020/all_comps/West-Ham-United-Stats-All-Competitions\n",
      "https://fbref.com/en/squads/8602292d/2019-2020/all_comps/Aston-Villa-Stats-All-Competitions\n",
      "https://fbref.com/en/squads/4ba7cbea/2019-2020/all_comps/Bournemouth-Stats-All-Competitions\n",
      "https://fbref.com/en/squads/2abfe087/2019-2020/all_comps/Watford-Stats-All-Competitions\n",
      "https://fbref.com/en/squads/1c781004/2019-2020/all_comps/Norwich-City-Stats-All-Competitions\n"
     ]
    },
    {
     "data": {
      "application/vnd.jupyter.widget-view+json": {
       "model_id": "0f10ab3148e644bbb2a03b8c1a2c4b9c",
       "version_major": 2,
       "version_minor": 0
      },
      "text/plain": [
       "  0%|          | 0/20 [00:00<?, ?it/s]"
      ]
     },
     "metadata": {},
     "output_type": "display_data"
    },
    {
     "name": "stdout",
     "output_type": "stream",
     "text": [
      "https://fbref.com/en/squads/b8fd03ef/2020-2021/all_comps/Manchester-City-Stats-All-Competitions\n",
      "https://fbref.com/en/squads/19538871/2020-2021/all_comps/Manchester-United-Stats-All-Competitions\n",
      "https://fbref.com/en/squads/822bd0ba/2020-2021/all_comps/Liverpool-Stats-All-Competitions\n",
      "https://fbref.com/en/squads/cff3d9bb/2020-2021/all_comps/Chelsea-Stats-All-Competitions\n",
      "https://fbref.com/en/squads/a2d435b3/2020-2021/all_comps/Leicester-City-Stats-All-Competitions\n",
      "https://fbref.com/en/squads/7c21e445/2020-2021/all_comps/West-Ham-United-Stats-All-Competitions\n",
      "https://fbref.com/en/squads/361ca564/2020-2021/all_comps/Tottenham-Hotspur-Stats-All-Competitions\n",
      "https://fbref.com/en/squads/18bb7c10/2020-2021/all_comps/Arsenal-Stats-All-Competitions\n",
      "https://fbref.com/en/squads/5bfb9659/2020-2021/all_comps/Leeds-United-Stats-All-Competitions\n",
      "https://fbref.com/en/squads/d3fd31cc/2020-2021/all_comps/Everton-Stats-All-Competitions\n",
      "https://fbref.com/en/squads/8602292d/2020-2021/all_comps/Aston-Villa-Stats-All-Competitions\n",
      "https://fbref.com/en/squads/b2b47a98/2020-2021/all_comps/Newcastle-United-Stats-All-Competitions\n",
      "https://fbref.com/en/squads/8cec06e1/2020-2021/all_comps/Wolverhampton-Wanderers-Stats-All-Competitions\n",
      "https://fbref.com/en/squads/47c64c55/2020-2021/all_comps/Crystal-Palace-Stats-All-Competitions\n",
      "https://fbref.com/en/squads/33c895d4/2020-2021/all_comps/Southampton-Stats-All-Competitions\n",
      "https://fbref.com/en/squads/d07537b9/2020-2021/all_comps/Brighton-and-Hove-Albion-Stats-All-Competitions\n",
      "https://fbref.com/en/squads/943e8050/2020-2021/all_comps/Burnley-Stats-All-Competitions\n",
      "https://fbref.com/en/squads/fd962109/2020-2021/all_comps/Fulham-Stats-All-Competitions\n",
      "https://fbref.com/en/squads/60c6b05f/2020-2021/all_comps/West-Bromwich-Albion-Stats-All-Competitions\n",
      "https://fbref.com/en/squads/1df6b87e/2020-2021/all_comps/Sheffield-United-Stats-All-Competitions\n"
     ]
    },
    {
     "data": {
      "application/vnd.jupyter.widget-view+json": {
       "model_id": "c0575979a1e340d08e436965640c09cd",
       "version_major": 2,
       "version_minor": 0
      },
      "text/plain": [
       "  0%|          | 0/20 [00:00<?, ?it/s]"
      ]
     },
     "metadata": {},
     "output_type": "display_data"
    },
    {
     "name": "stdout",
     "output_type": "stream",
     "text": [
      "https://fbref.com/en/squads/b8fd03ef/2021-2022/all_comps/Manchester-City-Stats-All-Competitions\n",
      "https://fbref.com/en/squads/822bd0ba/2021-2022/all_comps/Liverpool-Stats-All-Competitions\n",
      "https://fbref.com/en/squads/cff3d9bb/2021-2022/all_comps/Chelsea-Stats-All-Competitions\n",
      "https://fbref.com/en/squads/361ca564/2021-2022/all_comps/Tottenham-Hotspur-Stats-All-Competitions\n",
      "https://fbref.com/en/squads/18bb7c10/2021-2022/all_comps/Arsenal-Stats-All-Competitions\n",
      "https://fbref.com/en/squads/19538871/2021-2022/all_comps/Manchester-United-Stats-All-Competitions\n",
      "https://fbref.com/en/squads/7c21e445/2021-2022/all_comps/West-Ham-United-Stats-All-Competitions\n",
      "https://fbref.com/en/squads/a2d435b3/2021-2022/all_comps/Leicester-City-Stats-All-Competitions\n",
      "https://fbref.com/en/squads/d07537b9/2021-2022/all_comps/Brighton-and-Hove-Albion-Stats-All-Competitions\n",
      "https://fbref.com/en/squads/8cec06e1/2021-2022/all_comps/Wolverhampton-Wanderers-Stats-All-Competitions\n",
      "https://fbref.com/en/squads/b2b47a98/2021-2022/all_comps/Newcastle-United-Stats-All-Competitions\n",
      "https://fbref.com/en/squads/47c64c55/2021-2022/all_comps/Crystal-Palace-Stats-All-Competitions\n",
      "https://fbref.com/en/squads/cd051869/2021-2022/all_comps/Brentford-Stats-All-Competitions\n",
      "https://fbref.com/en/squads/8602292d/2021-2022/all_comps/Aston-Villa-Stats-All-Competitions\n",
      "https://fbref.com/en/squads/33c895d4/2021-2022/all_comps/Southampton-Stats-All-Competitions\n",
      "https://fbref.com/en/squads/d3fd31cc/2021-2022/all_comps/Everton-Stats-All-Competitions\n",
      "https://fbref.com/en/squads/5bfb9659/2021-2022/all_comps/Leeds-United-Stats-All-Competitions\n",
      "https://fbref.com/en/squads/943e8050/2021-2022/all_comps/Burnley-Stats-All-Competitions\n",
      "https://fbref.com/en/squads/2abfe087/2021-2022/all_comps/Watford-Stats-All-Competitions\n",
      "https://fbref.com/en/squads/1c781004/2021-2022/all_comps/Norwich-City-Stats-All-Competitions\n"
     ]
    },
    {
     "data": {
      "application/vnd.jupyter.widget-view+json": {
       "model_id": "4e4e46756ffe4976be2e12b65e5adf07",
       "version_major": 2,
       "version_minor": 0
      },
      "text/plain": [
       "  0%|          | 0/20 [00:00<?, ?it/s]"
      ]
     },
     "metadata": {},
     "output_type": "display_data"
    },
    {
     "name": "stdout",
     "output_type": "stream",
     "text": [
      "https://fbref.com/en/squads/b8fd03ef/2022-2023/all_comps/Manchester-City-Stats-All-Competitions\n",
      "https://fbref.com/en/squads/18bb7c10/2022-2023/all_comps/Arsenal-Stats-All-Competitions\n",
      "https://fbref.com/en/squads/19538871/2022-2023/all_comps/Manchester-United-Stats-All-Competitions\n",
      "https://fbref.com/en/squads/b2b47a98/2022-2023/all_comps/Newcastle-United-Stats-All-Competitions\n",
      "https://fbref.com/en/squads/822bd0ba/2022-2023/all_comps/Liverpool-Stats-All-Competitions\n",
      "https://fbref.com/en/squads/d07537b9/2022-2023/all_comps/Brighton-and-Hove-Albion-Stats-All-Competitions\n",
      "https://fbref.com/en/squads/8602292d/2022-2023/all_comps/Aston-Villa-Stats-All-Competitions\n",
      "https://fbref.com/en/squads/361ca564/2022-2023/all_comps/Tottenham-Hotspur-Stats-All-Competitions\n",
      "https://fbref.com/en/squads/cd051869/2022-2023/all_comps/Brentford-Stats-All-Competitions\n",
      "https://fbref.com/en/squads/fd962109/2022-2023/all_comps/Fulham-Stats-All-Competitions\n",
      "https://fbref.com/en/squads/47c64c55/2022-2023/all_comps/Crystal-Palace-Stats-All-Competitions\n",
      "https://fbref.com/en/squads/cff3d9bb/2022-2023/all_comps/Chelsea-Stats-All-Competitions\n",
      "https://fbref.com/en/squads/8cec06e1/2022-2023/all_comps/Wolverhampton-Wanderers-Stats-All-Competitions\n",
      "https://fbref.com/en/squads/7c21e445/2022-2023/all_comps/West-Ham-United-Stats-All-Competitions\n",
      "https://fbref.com/en/squads/4ba7cbea/2022-2023/all_comps/Bournemouth-Stats-All-Competitions\n",
      "https://fbref.com/en/squads/e4a775cb/2022-2023/all_comps/Nottingham-Forest-Stats-All-Competitions\n",
      "https://fbref.com/en/squads/d3fd31cc/2022-2023/all_comps/Everton-Stats-All-Competitions\n",
      "https://fbref.com/en/squads/a2d435b3/2022-2023/all_comps/Leicester-City-Stats-All-Competitions\n",
      "https://fbref.com/en/squads/5bfb9659/2022-2023/all_comps/Leeds-United-Stats-All-Competitions\n",
      "https://fbref.com/en/squads/33c895d4/2022-2023/all_comps/Southampton-Stats-All-Competitions\n"
     ]
    },
    {
     "data": {
      "application/vnd.jupyter.widget-view+json": {
       "model_id": "7cc3792446f14f08919dde4e39130a72",
       "version_major": 2,
       "version_minor": 0
      },
      "text/plain": [
       "  0%|          | 0/5 [00:00<?, ?it/s]"
      ]
     },
     "metadata": {},
     "output_type": "display_data"
    },
    {
     "data": {
      "application/vnd.jupyter.widget-view+json": {
       "model_id": "1bb99b63f77140d982726141ff3d20ef",
       "version_major": 2,
       "version_minor": 0
      },
      "text/plain": [
       "  0%|          | 0/20 [00:00<?, ?it/s]"
      ]
     },
     "metadata": {},
     "output_type": "display_data"
    },
    {
     "name": "stdout",
     "output_type": "stream",
     "text": [
      "https://fbref.com/en/squads/206d90db/2018-2019/all_comps/Barcelona-Stats-All-Competitions\n",
      "https://fbref.com/en/squads/db3b9613/2018-2019/all_comps/Atletico-Madrid-Stats-All-Competitions\n",
      "https://fbref.com/en/squads/53a2f082/2018-2019/all_comps/Real-Madrid-Stats-All-Competitions\n",
      "https://fbref.com/en/squads/dcc91a7b/2018-2019/all_comps/Valencia-Stats-All-Competitions\n",
      "https://fbref.com/en/squads/7848bd64/2018-2019/all_comps/Getafe-Stats-All-Competitions\n",
      "https://fbref.com/en/squads/ad2be733/2018-2019/all_comps/Sevilla-Stats-All-Competitions\n",
      "https://fbref.com/en/squads/a8661628/2018-2019/all_comps/Espanyol-Stats-All-Competitions\n",
      "https://fbref.com/en/squads/2b390eca/2018-2019/all_comps/Athletic-Club-Stats-All-Competitions\n",
      "https://fbref.com/en/squads/e31d1cd9/2018-2019/all_comps/Real-Sociedad-Stats-All-Competitions\n",
      "https://fbref.com/en/squads/fc536746/2018-2019/all_comps/Real-Betis-Stats-All-Competitions\n",
      "https://fbref.com/en/squads/8d6fd021/2018-2019/all_comps/Alaves-Stats-All-Competitions\n",
      "https://fbref.com/en/squads/bea5c710/2018-2019/all_comps/Eibar-Stats-All-Competitions\n",
      "https://fbref.com/en/squads/7c6f2c78/2018-2019/all_comps/Leganes-Stats-All-Competitions\n",
      "https://fbref.com/en/squads/2a8183b3/2018-2019/all_comps/Villarreal-Stats-All-Competitions\n",
      "https://fbref.com/en/squads/9800b6a1/2018-2019/all_comps/Levante-Stats-All-Competitions\n",
      "https://fbref.com/en/squads/17859612/2018-2019/all_comps/Valladolid-Stats-All-Competitions\n",
      "https://fbref.com/en/squads/f25da7fb/2018-2019/all_comps/Celta-Vigo-Stats-All-Competitions\n",
      "https://fbref.com/en/squads/9024a00a/2018-2019/all_comps/Girona-Stats-All-Competitions\n",
      "https://fbref.com/en/squads/c6c493e6/2018-2019/all_comps/Huesca-Stats-All-Competitions\n",
      "https://fbref.com/en/squads/98e8af82/2018-2019/all_comps/Rayo-Vallecano-Stats-All-Competitions\n"
     ]
    },
    {
     "data": {
      "application/vnd.jupyter.widget-view+json": {
       "model_id": "66169c707e18410bb58b812b52d6b512",
       "version_major": 2,
       "version_minor": 0
      },
      "text/plain": [
       "  0%|          | 0/20 [00:00<?, ?it/s]"
      ]
     },
     "metadata": {},
     "output_type": "display_data"
    },
    {
     "name": "stdout",
     "output_type": "stream",
     "text": [
      "https://fbref.com/en/squads/53a2f082/2019-2020/all_comps/Real-Madrid-Stats-All-Competitions\n",
      "https://fbref.com/en/squads/206d90db/2019-2020/all_comps/Barcelona-Stats-All-Competitions\n",
      "https://fbref.com/en/squads/db3b9613/2019-2020/all_comps/Atletico-Madrid-Stats-All-Competitions\n",
      "https://fbref.com/en/squads/ad2be733/2019-2020/all_comps/Sevilla-Stats-All-Competitions\n",
      "https://fbref.com/en/squads/2a8183b3/2019-2020/all_comps/Villarreal-Stats-All-Competitions\n",
      "https://fbref.com/en/squads/e31d1cd9/2019-2020/all_comps/Real-Sociedad-Stats-All-Competitions\n",
      "https://fbref.com/en/squads/a0435291/2019-2020/all_comps/Granada-Stats-All-Competitions\n",
      "https://fbref.com/en/squads/7848bd64/2019-2020/all_comps/Getafe-Stats-All-Competitions\n",
      "https://fbref.com/en/squads/dcc91a7b/2019-2020/all_comps/Valencia-Stats-All-Competitions\n",
      "https://fbref.com/en/squads/03c57e2b/2019-2020/all_comps/Osasuna-Stats-All-Competitions\n",
      "https://fbref.com/en/squads/2b390eca/2019-2020/all_comps/Athletic-Club-Stats-All-Competitions\n",
      "https://fbref.com/en/squads/9800b6a1/2019-2020/all_comps/Levante-Stats-All-Competitions\n",
      "https://fbref.com/en/squads/17859612/2019-2020/all_comps/Valladolid-Stats-All-Competitions\n",
      "https://fbref.com/en/squads/bea5c710/2019-2020/all_comps/Eibar-Stats-All-Competitions\n",
      "https://fbref.com/en/squads/fc536746/2019-2020/all_comps/Real-Betis-Stats-All-Competitions\n",
      "https://fbref.com/en/squads/8d6fd021/2019-2020/all_comps/Alaves-Stats-All-Competitions\n",
      "No tables found\n",
      "https://fbref.com/en/squads/f25da7fb/2019-2020/all_comps/Celta-Vigo-Stats-All-Competitions\n",
      "https://fbref.com/en/squads/7c6f2c78/2019-2020/all_comps/Leganes-Stats-All-Competitions\n",
      "https://fbref.com/en/squads/2aa12281/2019-2020/all_comps/Mallorca-Stats-All-Competitions\n",
      "https://fbref.com/en/squads/a8661628/2019-2020/all_comps/Espanyol-Stats-All-Competitions\n"
     ]
    },
    {
     "data": {
      "application/vnd.jupyter.widget-view+json": {
       "model_id": "8da7c3d4318b4c9a94d9f6e6de153181",
       "version_major": 2,
       "version_minor": 0
      },
      "text/plain": [
       "  0%|          | 0/20 [00:00<?, ?it/s]"
      ]
     },
     "metadata": {},
     "output_type": "display_data"
    },
    {
     "name": "stdout",
     "output_type": "stream",
     "text": [
      "https://fbref.com/en/squads/db3b9613/2020-2021/all_comps/Atletico-Madrid-Stats-All-Competitions\n",
      "https://fbref.com/en/squads/53a2f082/2020-2021/all_comps/Real-Madrid-Stats-All-Competitions\n",
      "https://fbref.com/en/squads/206d90db/2020-2021/all_comps/Barcelona-Stats-All-Competitions\n",
      "https://fbref.com/en/squads/ad2be733/2020-2021/all_comps/Sevilla-Stats-All-Competitions\n",
      "https://fbref.com/en/squads/e31d1cd9/2020-2021/all_comps/Real-Sociedad-Stats-All-Competitions\n",
      "https://fbref.com/en/squads/fc536746/2020-2021/all_comps/Real-Betis-Stats-All-Competitions\n",
      "https://fbref.com/en/squads/2a8183b3/2020-2021/all_comps/Villarreal-Stats-All-Competitions\n",
      "https://fbref.com/en/squads/f25da7fb/2020-2021/all_comps/Celta-Vigo-Stats-All-Competitions\n",
      "https://fbref.com/en/squads/a0435291/2020-2021/all_comps/Granada-Stats-All-Competitions\n",
      "https://fbref.com/en/squads/2b390eca/2020-2021/all_comps/Athletic-Club-Stats-All-Competitions\n",
      "https://fbref.com/en/squads/03c57e2b/2020-2021/all_comps/Osasuna-Stats-All-Competitions\n",
      "https://fbref.com/en/squads/ee7c297c/2020-2021/all_comps/Cadiz-Stats-All-Competitions\n",
      "https://fbref.com/en/squads/dcc91a7b/2020-2021/all_comps/Valencia-Stats-All-Competitions\n",
      "https://fbref.com/en/squads/9800b6a1/2020-2021/all_comps/Levante-Stats-All-Competitions\n",
      "https://fbref.com/en/squads/7848bd64/2020-2021/all_comps/Getafe-Stats-All-Competitions\n",
      "https://fbref.com/en/squads/8d6fd021/2020-2021/all_comps/Alaves-Stats-All-Competitions\n",
      "https://fbref.com/en/squads/6c8b07df/2020-2021/all_comps/Elche-Stats-All-Competitions\n",
      "https://fbref.com/en/squads/c6c493e6/2020-2021/all_comps/Huesca-Stats-All-Competitions\n",
      "https://fbref.com/en/squads/17859612/2020-2021/all_comps/Valladolid-Stats-All-Competitions\n",
      "https://fbref.com/en/squads/bea5c710/2020-2021/all_comps/Eibar-Stats-All-Competitions\n"
     ]
    },
    {
     "data": {
      "application/vnd.jupyter.widget-view+json": {
       "model_id": "f4f1581bc38c42a9a583b8ff2cb40bc0",
       "version_major": 2,
       "version_minor": 0
      },
      "text/plain": [
       "  0%|          | 0/20 [00:00<?, ?it/s]"
      ]
     },
     "metadata": {},
     "output_type": "display_data"
    },
    {
     "name": "stdout",
     "output_type": "stream",
     "text": [
      "https://fbref.com/en/squads/53a2f082/2021-2022/all_comps/Real-Madrid-Stats-All-Competitions\n",
      "https://fbref.com/en/squads/206d90db/2021-2022/all_comps/Barcelona-Stats-All-Competitions\n",
      "https://fbref.com/en/squads/db3b9613/2021-2022/all_comps/Atletico-Madrid-Stats-All-Competitions\n",
      "https://fbref.com/en/squads/ad2be733/2021-2022/all_comps/Sevilla-Stats-All-Competitions\n",
      "https://fbref.com/en/squads/fc536746/2021-2022/all_comps/Real-Betis-Stats-All-Competitions\n",
      "https://fbref.com/en/squads/e31d1cd9/2021-2022/all_comps/Real-Sociedad-Stats-All-Competitions\n",
      "https://fbref.com/en/squads/2a8183b3/2021-2022/all_comps/Villarreal-Stats-All-Competitions\n",
      "https://fbref.com/en/squads/2b390eca/2021-2022/all_comps/Athletic-Club-Stats-All-Competitions\n",
      "https://fbref.com/en/squads/dcc91a7b/2021-2022/all_comps/Valencia-Stats-All-Competitions\n",
      "https://fbref.com/en/squads/03c57e2b/2021-2022/all_comps/Osasuna-Stats-All-Competitions\n",
      "https://fbref.com/en/squads/f25da7fb/2021-2022/all_comps/Celta-Vigo-Stats-All-Competitions\n",
      "https://fbref.com/en/squads/98e8af82/2021-2022/all_comps/Rayo-Vallecano-Stats-All-Competitions\n",
      "https://fbref.com/en/squads/6c8b07df/2021-2022/all_comps/Elche-Stats-All-Competitions\n",
      "https://fbref.com/en/squads/a8661628/2021-2022/all_comps/Espanyol-Stats-All-Competitions\n",
      "https://fbref.com/en/squads/7848bd64/2021-2022/all_comps/Getafe-Stats-All-Competitions\n",
      "https://fbref.com/en/squads/2aa12281/2021-2022/all_comps/Mallorca-Stats-All-Competitions\n",
      "https://fbref.com/en/squads/ee7c297c/2021-2022/all_comps/Cadiz-Stats-All-Competitions\n",
      "https://fbref.com/en/squads/a0435291/2021-2022/all_comps/Granada-Stats-All-Competitions\n",
      "https://fbref.com/en/squads/9800b6a1/2021-2022/all_comps/Levante-Stats-All-Competitions\n",
      "https://fbref.com/en/squads/8d6fd021/2021-2022/all_comps/Alaves-Stats-All-Competitions\n"
     ]
    },
    {
     "data": {
      "application/vnd.jupyter.widget-view+json": {
       "model_id": "856201240cab422b9d8b9a66b2c74ebd",
       "version_major": 2,
       "version_minor": 0
      },
      "text/plain": [
       "  0%|          | 0/20 [00:00<?, ?it/s]"
      ]
     },
     "metadata": {},
     "output_type": "display_data"
    },
    {
     "name": "stdout",
     "output_type": "stream",
     "text": [
      "https://fbref.com/en/squads/206d90db/2022-2023/all_comps/Barcelona-Stats-All-Competitions\n",
      "https://fbref.com/en/squads/53a2f082/2022-2023/all_comps/Real-Madrid-Stats-All-Competitions\n",
      "https://fbref.com/en/squads/db3b9613/2022-2023/all_comps/Atletico-Madrid-Stats-All-Competitions\n",
      "https://fbref.com/en/squads/e31d1cd9/2022-2023/all_comps/Real-Sociedad-Stats-All-Competitions\n",
      "https://fbref.com/en/squads/2a8183b3/2022-2023/all_comps/Villarreal-Stats-All-Competitions\n",
      "https://fbref.com/en/squads/fc536746/2022-2023/all_comps/Real-Betis-Stats-All-Competitions\n",
      "https://fbref.com/en/squads/03c57e2b/2022-2023/all_comps/Osasuna-Stats-All-Competitions\n",
      "https://fbref.com/en/squads/2b390eca/2022-2023/all_comps/Athletic-Club-Stats-All-Competitions\n",
      "https://fbref.com/en/squads/2aa12281/2022-2023/all_comps/Mallorca-Stats-All-Competitions\n",
      "https://fbref.com/en/squads/9024a00a/2022-2023/all_comps/Girona-Stats-All-Competitions\n",
      "https://fbref.com/en/squads/98e8af82/2022-2023/all_comps/Rayo-Vallecano-Stats-All-Competitions\n",
      "https://fbref.com/en/squads/ad2be733/2022-2023/all_comps/Sevilla-Stats-All-Competitions\n",
      "https://fbref.com/en/squads/f25da7fb/2022-2023/all_comps/Celta-Vigo-Stats-All-Competitions\n",
      "https://fbref.com/en/squads/ee7c297c/2022-2023/all_comps/Cadiz-Stats-All-Competitions\n",
      "https://fbref.com/en/squads/7848bd64/2022-2023/all_comps/Getafe-Stats-All-Competitions\n",
      "https://fbref.com/en/squads/dcc91a7b/2022-2023/all_comps/Valencia-Stats-All-Competitions\n",
      "https://fbref.com/en/squads/78ecf4bb/2022-2023/all_comps/Almeria-Stats-All-Competitions\n",
      "https://fbref.com/en/squads/17859612/2022-2023/all_comps/Valladolid-Stats-All-Competitions\n",
      "https://fbref.com/en/squads/a8661628/2022-2023/all_comps/Espanyol-Stats-All-Competitions\n",
      "https://fbref.com/en/squads/6c8b07df/2022-2023/all_comps/Elche-Stats-All-Competitions\n"
     ]
    },
    {
     "data": {
      "application/vnd.jupyter.widget-view+json": {
       "model_id": "8b592d987efb482eb1a9708a87e52093",
       "version_major": 2,
       "version_minor": 0
      },
      "text/plain": [
       "  0%|          | 0/5 [00:00<?, ?it/s]"
      ]
     },
     "metadata": {},
     "output_type": "display_data"
    },
    {
     "data": {
      "application/vnd.jupyter.widget-view+json": {
       "model_id": "929e307098be4205a59760f3316eae13",
       "version_major": 2,
       "version_minor": 0
      },
      "text/plain": [
       "  0%|          | 0/18 [00:00<?, ?it/s]"
      ]
     },
     "metadata": {},
     "output_type": "display_data"
    },
    {
     "name": "stdout",
     "output_type": "stream",
     "text": [
      "https://fbref.com/en/squads/054efa67/2018-2019/all_comps/Bayern-Munich-Stats-All-Competitions\n",
      "https://fbref.com/en/squads/add600ae/2018-2019/all_comps/Dortmund-Stats-All-Competitions\n",
      "https://fbref.com/en/squads/acbb6a5b/2018-2019/all_comps/RB-Leipzig-Stats-All-Competitions\n",
      "https://fbref.com/en/squads/c7a9f859/2018-2019/all_comps/Bayer-Leverkusen-Stats-All-Competitions\n",
      "https://fbref.com/en/squads/32f3ee20/2018-2019/all_comps/Monchengladbach-Stats-All-Competitions\n",
      "https://fbref.com/en/squads/4eaa11d7/2018-2019/all_comps/Wolfsburg-Stats-All-Competitions\n",
      "https://fbref.com/en/squads/f0ac8ee6/2018-2019/all_comps/Eintracht-Frankfurt-Stats-All-Competitions\n",
      "https://fbref.com/en/squads/62add3bf/2018-2019/all_comps/Werder-Bremen-Stats-All-Competitions\n",
      "https://fbref.com/en/squads/033ea6b8/2018-2019/all_comps/Hoffenheim-Stats-All-Competitions\n",
      "https://fbref.com/en/squads/b1278397/2018-2019/all_comps/Dusseldorf-Stats-All-Competitions\n",
      "https://fbref.com/en/squads/2818f8bc/2018-2019/all_comps/Hertha-BSC-Stats-All-Competitions\n",
      "https://fbref.com/en/squads/a224b06a/2018-2019/all_comps/Mainz-05-Stats-All-Competitions\n",
      "https://fbref.com/en/squads/a486e511/2018-2019/all_comps/Freiburg-Stats-All-Competitions\n",
      "https://fbref.com/en/squads/c539e393/2018-2019/all_comps/Schalke-04-Stats-All-Competitions\n",
      "https://fbref.com/en/squads/0cdc4311/2018-2019/all_comps/Augsburg-Stats-All-Competitions\n",
      "https://fbref.com/en/squads/598bc722/2018-2019/all_comps/Stuttgart-Stats-All-Competitions\n",
      "https://fbref.com/en/squads/60b5e41f/2018-2019/all_comps/Hannover-96-Stats-All-Competitions\n",
      "https://fbref.com/en/squads/6f2c108c/2018-2019/all_comps/Nurnberg-Stats-All-Competitions\n"
     ]
    },
    {
     "data": {
      "application/vnd.jupyter.widget-view+json": {
       "model_id": "c713afc9954b40dd915c8f5d49f38d73",
       "version_major": 2,
       "version_minor": 0
      },
      "text/plain": [
       "  0%|          | 0/18 [00:00<?, ?it/s]"
      ]
     },
     "metadata": {},
     "output_type": "display_data"
    },
    {
     "name": "stdout",
     "output_type": "stream",
     "text": [
      "https://fbref.com/en/squads/054efa67/2019-2020/all_comps/Bayern-Munich-Stats-All-Competitions\n",
      "https://fbref.com/en/squads/add600ae/2019-2020/all_comps/Dortmund-Stats-All-Competitions\n",
      "https://fbref.com/en/squads/acbb6a5b/2019-2020/all_comps/RB-Leipzig-Stats-All-Competitions\n",
      "https://fbref.com/en/squads/32f3ee20/2019-2020/all_comps/Monchengladbach-Stats-All-Competitions\n",
      "https://fbref.com/en/squads/c7a9f859/2019-2020/all_comps/Bayer-Leverkusen-Stats-All-Competitions\n",
      "https://fbref.com/en/squads/033ea6b8/2019-2020/all_comps/Hoffenheim-Stats-All-Competitions\n",
      "https://fbref.com/en/squads/4eaa11d7/2019-2020/all_comps/Wolfsburg-Stats-All-Competitions\n",
      "https://fbref.com/en/squads/a486e511/2019-2020/all_comps/Freiburg-Stats-All-Competitions\n",
      "https://fbref.com/en/squads/f0ac8ee6/2019-2020/all_comps/Eintracht-Frankfurt-Stats-All-Competitions\n",
      "https://fbref.com/en/squads/2818f8bc/2019-2020/all_comps/Hertha-BSC-Stats-All-Competitions\n",
      "https://fbref.com/en/squads/7a41008f/2019-2020/all_comps/Union-Berlin-Stats-All-Competitions\n",
      "https://fbref.com/en/squads/c539e393/2019-2020/all_comps/Schalke-04-Stats-All-Competitions\n",
      "https://fbref.com/en/squads/a224b06a/2019-2020/all_comps/Mainz-05-Stats-All-Competitions\n",
      "https://fbref.com/en/squads/bc357bf7/2019-2020/all_comps/Koln-Stats-All-Competitions\n",
      "https://fbref.com/en/squads/0cdc4311/2019-2020/all_comps/Augsburg-Stats-All-Competitions\n",
      "https://fbref.com/en/squads/62add3bf/2019-2020/all_comps/Werder-Bremen-Stats-All-Competitions\n",
      "https://fbref.com/en/squads/b1278397/2019-2020/all_comps/Dusseldorf-Stats-All-Competitions\n",
      "https://fbref.com/en/squads/d9f93f02/2019-2020/all_comps/Paderborn-07-Stats-All-Competitions\n"
     ]
    },
    {
     "data": {
      "application/vnd.jupyter.widget-view+json": {
       "model_id": "e8cbe838945440b68acf01533d7b8fb4",
       "version_major": 2,
       "version_minor": 0
      },
      "text/plain": [
       "  0%|          | 0/18 [00:00<?, ?it/s]"
      ]
     },
     "metadata": {},
     "output_type": "display_data"
    },
    {
     "name": "stdout",
     "output_type": "stream",
     "text": [
      "https://fbref.com/en/squads/054efa67/2020-2021/all_comps/Bayern-Munich-Stats-All-Competitions\n",
      "https://fbref.com/en/squads/acbb6a5b/2020-2021/all_comps/RB-Leipzig-Stats-All-Competitions\n",
      "https://fbref.com/en/squads/add600ae/2020-2021/all_comps/Dortmund-Stats-All-Competitions\n",
      "https://fbref.com/en/squads/4eaa11d7/2020-2021/all_comps/Wolfsburg-Stats-All-Competitions\n",
      "https://fbref.com/en/squads/f0ac8ee6/2020-2021/all_comps/Eintracht-Frankfurt-Stats-All-Competitions\n",
      "https://fbref.com/en/squads/c7a9f859/2020-2021/all_comps/Bayer-Leverkusen-Stats-All-Competitions\n",
      "https://fbref.com/en/squads/7a41008f/2020-2021/all_comps/Union-Berlin-Stats-All-Competitions\n",
      "https://fbref.com/en/squads/32f3ee20/2020-2021/all_comps/Monchengladbach-Stats-All-Competitions\n",
      "https://fbref.com/en/squads/598bc722/2020-2021/all_comps/Stuttgart-Stats-All-Competitions\n",
      "https://fbref.com/en/squads/a486e511/2020-2021/all_comps/Freiburg-Stats-All-Competitions\n",
      "https://fbref.com/en/squads/033ea6b8/2020-2021/all_comps/Hoffenheim-Stats-All-Competitions\n",
      "https://fbref.com/en/squads/a224b06a/2020-2021/all_comps/Mainz-05-Stats-All-Competitions\n",
      "https://fbref.com/en/squads/0cdc4311/2020-2021/all_comps/Augsburg-Stats-All-Competitions\n",
      "https://fbref.com/en/squads/2818f8bc/2020-2021/all_comps/Hertha-BSC-Stats-All-Competitions\n",
      "https://fbref.com/en/squads/247c4b67/2020-2021/all_comps/Arminia-Stats-All-Competitions\n",
      "https://fbref.com/en/squads/bc357bf7/2020-2021/all_comps/Koln-Stats-All-Competitions\n",
      "https://fbref.com/en/squads/62add3bf/2020-2021/all_comps/Werder-Bremen-Stats-All-Competitions\n",
      "https://fbref.com/en/squads/c539e393/2020-2021/all_comps/Schalke-04-Stats-All-Competitions\n"
     ]
    },
    {
     "data": {
      "application/vnd.jupyter.widget-view+json": {
       "model_id": "7e992072aebe4be29a8bdfe6ebf17a1d",
       "version_major": 2,
       "version_minor": 0
      },
      "text/plain": [
       "  0%|          | 0/18 [00:00<?, ?it/s]"
      ]
     },
     "metadata": {},
     "output_type": "display_data"
    },
    {
     "name": "stdout",
     "output_type": "stream",
     "text": [
      "https://fbref.com/en/squads/054efa67/2021-2022/all_comps/Bayern-Munich-Stats-All-Competitions\n",
      "https://fbref.com/en/squads/add600ae/2021-2022/all_comps/Dortmund-Stats-All-Competitions\n",
      "https://fbref.com/en/squads/c7a9f859/2021-2022/all_comps/Bayer-Leverkusen-Stats-All-Competitions\n",
      "https://fbref.com/en/squads/acbb6a5b/2021-2022/all_comps/RB-Leipzig-Stats-All-Competitions\n",
      "https://fbref.com/en/squads/7a41008f/2021-2022/all_comps/Union-Berlin-Stats-All-Competitions\n",
      "https://fbref.com/en/squads/a486e511/2021-2022/all_comps/Freiburg-Stats-All-Competitions\n",
      "https://fbref.com/en/squads/bc357bf7/2021-2022/all_comps/Koln-Stats-All-Competitions\n",
      "https://fbref.com/en/squads/a224b06a/2021-2022/all_comps/Mainz-05-Stats-All-Competitions\n",
      "https://fbref.com/en/squads/033ea6b8/2021-2022/all_comps/Hoffenheim-Stats-All-Competitions\n",
      "https://fbref.com/en/squads/32f3ee20/2021-2022/all_comps/Monchengladbach-Stats-All-Competitions\n",
      "https://fbref.com/en/squads/f0ac8ee6/2021-2022/all_comps/Eintracht-Frankfurt-Stats-All-Competitions\n",
      "https://fbref.com/en/squads/4eaa11d7/2021-2022/all_comps/Wolfsburg-Stats-All-Competitions\n",
      "https://fbref.com/en/squads/b42c6323/2021-2022/all_comps/Bochum-Stats-All-Competitions\n",
      "https://fbref.com/en/squads/0cdc4311/2021-2022/all_comps/Augsburg-Stats-All-Competitions\n",
      "https://fbref.com/en/squads/598bc722/2021-2022/all_comps/Stuttgart-Stats-All-Competitions\n",
      "https://fbref.com/en/squads/2818f8bc/2021-2022/all_comps/Hertha-BSC-Stats-All-Competitions\n",
      "https://fbref.com/en/squads/247c4b67/2021-2022/all_comps/Arminia-Stats-All-Competitions\n",
      "https://fbref.com/en/squads/12192a4c/2021-2022/all_comps/Greuther-Furth-Stats-All-Competitions\n"
     ]
    },
    {
     "data": {
      "application/vnd.jupyter.widget-view+json": {
       "model_id": "1b9395b12f4f4b5b8d4dc03198264f03",
       "version_major": 2,
       "version_minor": 0
      },
      "text/plain": [
       "  0%|          | 0/18 [00:00<?, ?it/s]"
      ]
     },
     "metadata": {},
     "output_type": "display_data"
    },
    {
     "name": "stdout",
     "output_type": "stream",
     "text": [
      "https://fbref.com/en/squads/054efa67/2022-2023/all_comps/Bayern-Munich-Stats-All-Competitions\n",
      "https://fbref.com/en/squads/add600ae/2022-2023/all_comps/Dortmund-Stats-All-Competitions\n",
      "https://fbref.com/en/squads/acbb6a5b/2022-2023/all_comps/RB-Leipzig-Stats-All-Competitions\n",
      "https://fbref.com/en/squads/7a41008f/2022-2023/all_comps/Union-Berlin-Stats-All-Competitions\n",
      "https://fbref.com/en/squads/a486e511/2022-2023/all_comps/Freiburg-Stats-All-Competitions\n",
      "https://fbref.com/en/squads/c7a9f859/2022-2023/all_comps/Bayer-Leverkusen-Stats-All-Competitions\n",
      "https://fbref.com/en/squads/f0ac8ee6/2022-2023/all_comps/Eintracht-Frankfurt-Stats-All-Competitions\n",
      "https://fbref.com/en/squads/4eaa11d7/2022-2023/all_comps/Wolfsburg-Stats-All-Competitions\n",
      "https://fbref.com/en/squads/a224b06a/2022-2023/all_comps/Mainz-05-Stats-All-Competitions\n",
      "https://fbref.com/en/squads/32f3ee20/2022-2023/all_comps/Monchengladbach-Stats-All-Competitions\n",
      "https://fbref.com/en/squads/bc357bf7/2022-2023/all_comps/Koln-Stats-All-Competitions\n",
      "https://fbref.com/en/squads/033ea6b8/2022-2023/all_comps/Hoffenheim-Stats-All-Competitions\n",
      "https://fbref.com/en/squads/62add3bf/2022-2023/all_comps/Werder-Bremen-Stats-All-Competitions\n",
      "https://fbref.com/en/squads/b42c6323/2022-2023/all_comps/Bochum-Stats-All-Competitions\n",
      "https://fbref.com/en/squads/0cdc4311/2022-2023/all_comps/Augsburg-Stats-All-Competitions\n",
      "https://fbref.com/en/squads/598bc722/2022-2023/all_comps/Stuttgart-Stats-All-Competitions\n",
      "https://fbref.com/en/squads/c539e393/2022-2023/all_comps/Schalke-04-Stats-All-Competitions\n",
      "https://fbref.com/en/squads/2818f8bc/2022-2023/all_comps/Hertha-BSC-Stats-All-Competitions\n"
     ]
    },
    {
     "data": {
      "application/vnd.jupyter.widget-view+json": {
       "model_id": "b9541e238bcd4a0c8086ac7c19c81d62",
       "version_major": 2,
       "version_minor": 0
      },
      "text/plain": [
       "  0%|          | 0/5 [00:00<?, ?it/s]"
      ]
     },
     "metadata": {},
     "output_type": "display_data"
    },
    {
     "data": {
      "application/vnd.jupyter.widget-view+json": {
       "model_id": "3498bae9bbe548d8b2c2393d2a19f8b2",
       "version_major": 2,
       "version_minor": 0
      },
      "text/plain": [
       "  0%|          | 0/20 [00:00<?, ?it/s]"
      ]
     },
     "metadata": {},
     "output_type": "display_data"
    },
    {
     "name": "stdout",
     "output_type": "stream",
     "text": [
      "https://fbref.com/en/squads/e2d8892c/2018-2019/all_comps/Paris-Saint-Germain-Stats-All-Competitions\n",
      "https://fbref.com/en/squads/cb188c0c/2018-2019/all_comps/Lille-Stats-All-Competitions\n",
      "https://fbref.com/en/squads/d53c0b06/2018-2019/all_comps/Lyon-Stats-All-Competitions\n",
      "https://fbref.com/en/squads/d298ef2c/2018-2019/all_comps/Saint-Etienne-Stats-All-Competitions\n",
      "https://fbref.com/en/squads/5725cc7b/2018-2019/all_comps/Marseille-Stats-All-Competitions\n",
      "https://fbref.com/en/squads/281b0e73/2018-2019/all_comps/Montpellier-Stats-All-Competitions\n",
      "https://fbref.com/en/squads/132ebc33/2018-2019/all_comps/Nice-Stats-All-Competitions\n",
      "https://fbref.com/en/squads/7fdd64e0/2018-2019/all_comps/Reims-Stats-All-Competitions\n",
      "https://fbref.com/en/squads/1cbf5f9e/2018-2019/all_comps/Nimes-Stats-All-Competitions\n",
      "https://fbref.com/en/squads/b3072e00/2018-2019/all_comps/Rennes-Stats-All-Competitions\n",
      "https://fbref.com/en/squads/c0d3eab4/2018-2019/all_comps/Strasbourg-Stats-All-Competitions\n",
      "https://fbref.com/en/squads/d7a486cd/2018-2019/all_comps/Nantes-Stats-All-Competitions\n",
      "https://fbref.com/en/squads/69236f98/2018-2019/all_comps/Angers-Stats-All-Competitions\n",
      "https://fbref.com/en/squads/123f3efe/2018-2019/all_comps/Bordeaux-Stats-All-Competitions\n",
      "https://fbref.com/en/squads/25622401/2018-2019/all_comps/Amiens-Stats-All-Competitions\n",
      "https://fbref.com/en/squads/3f8c4b5f/2018-2019/all_comps/Toulouse-Stats-All-Competitions\n",
      "https://fbref.com/en/squads/fd6114db/2018-2019/all_comps/Monaco-Stats-All-Competitions\n",
      "https://fbref.com/en/squads/8dfb7350/2018-2019/all_comps/Dijon-Stats-All-Competitions\n",
      "https://fbref.com/en/squads/74229020/2018-2019/all_comps/Caen-Stats-All-Competitions\n",
      "https://fbref.com/en/squads/d41b5f53/2018-2019/all_comps/Guingamp-Stats-All-Competitions\n"
     ]
    },
    {
     "data": {
      "application/vnd.jupyter.widget-view+json": {
       "model_id": "a233bba0a10140409c4ca3e0dfda51d0",
       "version_major": 2,
       "version_minor": 0
      },
      "text/plain": [
       "  0%|          | 0/20 [00:00<?, ?it/s]"
      ]
     },
     "metadata": {},
     "output_type": "display_data"
    },
    {
     "name": "stdout",
     "output_type": "stream",
     "text": [
      "https://fbref.com/en/squads/e2d8892c/2019-2020/all_comps/Paris-Saint-Germain-Stats-All-Competitions\n",
      "https://fbref.com/en/squads/5725cc7b/2019-2020/all_comps/Marseille-Stats-All-Competitions\n",
      "https://fbref.com/en/squads/b3072e00/2019-2020/all_comps/Rennes-Stats-All-Competitions\n",
      "https://fbref.com/en/squads/cb188c0c/2019-2020/all_comps/Lille-Stats-All-Competitions\n",
      "https://fbref.com/en/squads/132ebc33/2019-2020/all_comps/Nice-Stats-All-Competitions\n",
      "https://fbref.com/en/squads/7fdd64e0/2019-2020/all_comps/Reims-Stats-All-Competitions\n",
      "https://fbref.com/en/squads/d53c0b06/2019-2020/all_comps/Lyon-Stats-All-Competitions\n",
      "https://fbref.com/en/squads/281b0e73/2019-2020/all_comps/Montpellier-Stats-All-Competitions\n",
      "https://fbref.com/en/squads/fd6114db/2019-2020/all_comps/Monaco-Stats-All-Competitions\n",
      "https://fbref.com/en/squads/c0d3eab4/2019-2020/all_comps/Strasbourg-Stats-All-Competitions\n",
      "https://fbref.com/en/squads/69236f98/2019-2020/all_comps/Angers-Stats-All-Competitions\n",
      "https://fbref.com/en/squads/123f3efe/2019-2020/all_comps/Bordeaux-Stats-All-Competitions\n",
      "https://fbref.com/en/squads/d7a486cd/2019-2020/all_comps/Nantes-Stats-All-Competitions\n",
      "https://fbref.com/en/squads/fb08dbb3/2019-2020/all_comps/Brest-Stats-All-Competitions\n",
      "https://fbref.com/en/squads/f83960ae/2019-2020/all_comps/Metz-Stats-All-Competitions\n",
      "https://fbref.com/en/squads/8dfb7350/2019-2020/all_comps/Dijon-Stats-All-Competitions\n",
      "https://fbref.com/en/squads/d298ef2c/2019-2020/all_comps/Saint-Etienne-Stats-All-Competitions\n",
      "https://fbref.com/en/squads/1cbf5f9e/2019-2020/all_comps/Nimes-Stats-All-Competitions\n",
      "https://fbref.com/en/squads/25622401/2019-2020/all_comps/Amiens-Stats-All-Competitions\n",
      "https://fbref.com/en/squads/3f8c4b5f/2019-2020/all_comps/Toulouse-Stats-All-Competitions\n"
     ]
    },
    {
     "data": {
      "application/vnd.jupyter.widget-view+json": {
       "model_id": "64eac651f7ad4bf980a7a83bc822cc50",
       "version_major": 2,
       "version_minor": 0
      },
      "text/plain": [
       "  0%|          | 0/20 [00:00<?, ?it/s]"
      ]
     },
     "metadata": {},
     "output_type": "display_data"
    },
    {
     "name": "stdout",
     "output_type": "stream",
     "text": [
      "https://fbref.com/en/squads/cb188c0c/2020-2021/all_comps/Lille-Stats-All-Competitions\n",
      "https://fbref.com/en/squads/e2d8892c/2020-2021/all_comps/Paris-Saint-Germain-Stats-All-Competitions\n",
      "https://fbref.com/en/squads/fd6114db/2020-2021/all_comps/Monaco-Stats-All-Competitions\n",
      "https://fbref.com/en/squads/d53c0b06/2020-2021/all_comps/Lyon-Stats-All-Competitions\n",
      "https://fbref.com/en/squads/5725cc7b/2020-2021/all_comps/Marseille-Stats-All-Competitions\n",
      "https://fbref.com/en/squads/b3072e00/2020-2021/all_comps/Rennes-Stats-All-Competitions\n",
      "https://fbref.com/en/squads/fd4e0f7d/2020-2021/all_comps/Lens-Stats-All-Competitions\n",
      "https://fbref.com/en/squads/281b0e73/2020-2021/all_comps/Montpellier-Stats-All-Competitions\n",
      "https://fbref.com/en/squads/132ebc33/2020-2021/all_comps/Nice-Stats-All-Competitions\n",
      "https://fbref.com/en/squads/f83960ae/2020-2021/all_comps/Metz-Stats-All-Competitions\n",
      "https://fbref.com/en/squads/d298ef2c/2020-2021/all_comps/Saint-Etienne-Stats-All-Competitions\n",
      "https://fbref.com/en/squads/123f3efe/2020-2021/all_comps/Bordeaux-Stats-All-Competitions\n",
      "https://fbref.com/en/squads/69236f98/2020-2021/all_comps/Angers-Stats-All-Competitions\n",
      "https://fbref.com/en/squads/7fdd64e0/2020-2021/all_comps/Reims-Stats-All-Competitions\n",
      "https://fbref.com/en/squads/c0d3eab4/2020-2021/all_comps/Strasbourg-Stats-All-Competitions\n",
      "https://fbref.com/en/squads/d2c87802/2020-2021/all_comps/Lorient-Stats-All-Competitions\n",
      "https://fbref.com/en/squads/fb08dbb3/2020-2021/all_comps/Brest-Stats-All-Competitions\n",
      "https://fbref.com/en/squads/d7a486cd/2020-2021/all_comps/Nantes-Stats-All-Competitions\n",
      "https://fbref.com/en/squads/1cbf5f9e/2020-2021/all_comps/Nimes-Stats-All-Competitions\n",
      "https://fbref.com/en/squads/8dfb7350/2020-2021/all_comps/Dijon-Stats-All-Competitions\n"
     ]
    },
    {
     "data": {
      "application/vnd.jupyter.widget-view+json": {
       "model_id": "96221f6dd6ce420290a609cf63c476af",
       "version_major": 2,
       "version_minor": 0
      },
      "text/plain": [
       "  0%|          | 0/20 [00:00<?, ?it/s]"
      ]
     },
     "metadata": {},
     "output_type": "display_data"
    },
    {
     "name": "stdout",
     "output_type": "stream",
     "text": [
      "https://fbref.com/en/squads/e2d8892c/2021-2022/all_comps/Paris-Saint-Germain-Stats-All-Competitions\n",
      "https://fbref.com/en/squads/5725cc7b/2021-2022/all_comps/Marseille-Stats-All-Competitions\n",
      "https://fbref.com/en/squads/fd6114db/2021-2022/all_comps/Monaco-Stats-All-Competitions\n",
      "https://fbref.com/en/squads/b3072e00/2021-2022/all_comps/Rennes-Stats-All-Competitions\n",
      "https://fbref.com/en/squads/132ebc33/2021-2022/all_comps/Nice-Stats-All-Competitions\n",
      "https://fbref.com/en/squads/c0d3eab4/2021-2022/all_comps/Strasbourg-Stats-All-Competitions\n",
      "https://fbref.com/en/squads/fd4e0f7d/2021-2022/all_comps/Lens-Stats-All-Competitions\n",
      "https://fbref.com/en/squads/d53c0b06/2021-2022/all_comps/Lyon-Stats-All-Competitions\n",
      "https://fbref.com/en/squads/d7a486cd/2021-2022/all_comps/Nantes-Stats-All-Competitions\n",
      "https://fbref.com/en/squads/cb188c0c/2021-2022/all_comps/Lille-Stats-All-Competitions\n",
      "https://fbref.com/en/squads/fb08dbb3/2021-2022/all_comps/Brest-Stats-All-Competitions\n",
      "https://fbref.com/en/squads/7fdd64e0/2021-2022/all_comps/Reims-Stats-All-Competitions\n",
      "https://fbref.com/en/squads/281b0e73/2021-2022/all_comps/Montpellier-Stats-All-Competitions\n",
      "https://fbref.com/en/squads/69236f98/2021-2022/all_comps/Angers-Stats-All-Competitions\n",
      "https://fbref.com/en/squads/54195385/2021-2022/all_comps/Troyes-Stats-All-Competitions\n",
      "https://fbref.com/en/squads/d2c87802/2021-2022/all_comps/Lorient-Stats-All-Competitions\n",
      "https://fbref.com/en/squads/d9676424/2021-2022/all_comps/Clermont-Foot-Stats-All-Competitions\n",
      "https://fbref.com/en/squads/d298ef2c/2021-2022/all_comps/Saint-Etienne-Stats-All-Competitions\n",
      "https://fbref.com/en/squads/f83960ae/2021-2022/all_comps/Metz-Stats-All-Competitions\n",
      "https://fbref.com/en/squads/123f3efe/2021-2022/all_comps/Bordeaux-Stats-All-Competitions\n"
     ]
    },
    {
     "data": {
      "application/vnd.jupyter.widget-view+json": {
       "model_id": "3fbbb16e31e04c2d804004929a7dfb7f",
       "version_major": 2,
       "version_minor": 0
      },
      "text/plain": [
       "  0%|          | 0/20 [00:00<?, ?it/s]"
      ]
     },
     "metadata": {},
     "output_type": "display_data"
    },
    {
     "name": "stdout",
     "output_type": "stream",
     "text": [
      "https://fbref.com/en/squads/e2d8892c/2022-2023/all_comps/Paris-Saint-Germain-Stats-All-Competitions\n",
      "https://fbref.com/en/squads/fd4e0f7d/2022-2023/all_comps/Lens-Stats-All-Competitions\n",
      "https://fbref.com/en/squads/5725cc7b/2022-2023/all_comps/Marseille-Stats-All-Competitions\n",
      "https://fbref.com/en/squads/b3072e00/2022-2023/all_comps/Rennes-Stats-All-Competitions\n",
      "https://fbref.com/en/squads/cb188c0c/2022-2023/all_comps/Lille-Stats-All-Competitions\n",
      "https://fbref.com/en/squads/fd6114db/2022-2023/all_comps/Monaco-Stats-All-Competitions\n",
      "https://fbref.com/en/squads/d53c0b06/2022-2023/all_comps/Lyon-Stats-All-Competitions\n",
      "https://fbref.com/en/squads/d9676424/2022-2023/all_comps/Clermont-Foot-Stats-All-Competitions\n",
      "https://fbref.com/en/squads/132ebc33/2022-2023/all_comps/Nice-Stats-All-Competitions\n",
      "https://fbref.com/en/squads/d2c87802/2022-2023/all_comps/Lorient-Stats-All-Competitions\n",
      "https://fbref.com/en/squads/7fdd64e0/2022-2023/all_comps/Reims-Stats-All-Competitions\n",
      "https://fbref.com/en/squads/281b0e73/2022-2023/all_comps/Montpellier-Stats-All-Competitions\n",
      "https://fbref.com/en/squads/3f8c4b5f/2022-2023/all_comps/Toulouse-Stats-All-Competitions\n",
      "https://fbref.com/en/squads/fb08dbb3/2022-2023/all_comps/Brest-Stats-All-Competitions\n",
      "https://fbref.com/en/squads/c0d3eab4/2022-2023/all_comps/Strasbourg-Stats-All-Competitions\n",
      "https://fbref.com/en/squads/d7a486cd/2022-2023/all_comps/Nantes-Stats-All-Competitions\n",
      "https://fbref.com/en/squads/5ae09109/2022-2023/all_comps/Auxerre-Stats-All-Competitions\n",
      "https://fbref.com/en/squads/7a54bb4f/2022-2023/all_comps/Ajaccio-Stats-All-Competitions\n",
      "https://fbref.com/en/squads/54195385/2022-2023/all_comps/Troyes-Stats-All-Competitions\n",
      "https://fbref.com/en/squads/69236f98/2022-2023/all_comps/Angers-Stats-All-Competitions\n"
     ]
    }
   ],
   "source": [
    "from bs4 import PageElement, Tag, BeautifulSoup\n",
    "import requests\n",
    "from tqdm.notebook import tqdm\n",
    "import time\n",
    "import os\n",
    "\n",
    "\n",
    "years = [\n",
    "    (2018, 2019),\n",
    "    (2019, 2020),\n",
    "    (2020, 2021),\n",
    "    (2021, 2022),\n",
    "    (2022, 2023),\n",
    "]\n",
    "leagues = [\n",
    "    [9, \"Premier-League\"],\n",
    "    [12, \"La-Liga\"],\n",
    "    [20, \"Bundesliga\"],\n",
    "    [13, \"Ligue-1\"]\n",
    "]\n",
    "\n",
    "for league in tqdm(leagues, total=len(leagues)):\n",
    "    l = []\n",
    "    try:\n",
    "        for y1, y2 in years:\n",
    "            URL = f\"https://fbref.com/en/comps/{league[0]}/{y1}-{y2}/{y1}-{y2}-{league[1]}-Stats\"\n",
    "            page = requests.get(URL)\n",
    "            soup = BeautifulSoup(page.content, \"lxml\")\n",
    "            table = soup.find(id=f\"results{y1}-{y2}{league[0]}1_overall\").find(\"tbody\")\n",
    "            squadre = []\n",
    "\n",
    "            for row in table.find_all(\"tr\"):\n",
    "                r: PageElement = row\n",
    "                anchor: Tag = r.find(\"a\")\n",
    "                squadre.append(anchor.attrs[\"href\"])\n",
    "            l.append(squadre)\n",
    "        players = {}\n",
    "        for index, anno in tqdm(enumerate(l), total=len(l)):\n",
    "            players[f\"{years[index]}\"] = {}\n",
    "            for squadra in tqdm(anno, total=len(anno)):\n",
    "                URL = f\"https://fbref.com{squadra}\"\n",
    "                parts = URL.split('/')\n",
    "                parts[-1] = f\"all_comps/{squadra.split('/')[-1]}-All-Competitions\"\n",
    "                new_url = '/'.join(parts)\n",
    "                print(new_url)\n",
    "                # wait 1 second before making the request\n",
    "                import time\n",
    "                time.sleep(1)\n",
    "                page = requests.get(new_url)\n",
    "                soup = BeautifulSoup(page.content, \"html.parser\")\n",
    "                table = soup.find(id=\"stats_standard_combined\")\n",
    "                try:\n",
    "                    players[f\"{years[index]}\"][f'{squadra.split('/')[-1].split(\"-\")[0]}'] = pd.read_html(str(table))\n",
    "                except Exception as e:\n",
    "                    print(e)\n",
    "        for anno, squadre in players.items():\n",
    "            for squadra, df in squadre.items():\n",
    "                if not os.path.exists(f\"data/{league}/{anno}\"):\n",
    "                    os.makedirs(f\"data/{league}/{anno}\")\n",
    "                df[0].to_csv(f\"data/{league}/{anno}/{squadra}.csv\", index=False)\n",
    "    except Exception as e1:\n",
    "        print(\"Error in league\", league, e1)\n",
    "        time.sleep(10)\n",
    "        pass"
   ]
  },
  {
   "cell_type": "code",
   "execution_count": 18,
   "id": "51bdb3ff",
   "metadata": {},
   "outputs": [],
   "source": []
  }
 ],
 "metadata": {
  "kaggle": {
   "accelerator": "none",
   "dataSources": [],
   "isGpuEnabled": false,
   "isInternetEnabled": true,
   "language": "python",
   "sourceType": "notebook"
  },
  "kernelspec": {
   "display_name": "Python 3",
   "language": "python",
   "name": "python3"
  },
  "language_info": {
   "codemirror_mode": {
    "name": "ipython",
    "version": 3
   },
   "file_extension": ".py",
   "mimetype": "text/x-python",
   "name": "python",
   "nbconvert_exporter": "python",
   "pygments_lexer": "ipython3",
   "version": "3.12.2"
  },
  "papermill": {
   "default_parameters": {},
   "duration": 4.152526,
   "end_time": "2024-02-18T14:06:44.423502",
   "environment_variables": {},
   "exception": null,
   "input_path": "__notebook__.ipynb",
   "output_path": "__notebook__.ipynb",
   "parameters": {},
   "start_time": "2024-02-18T14:06:40.270976",
   "version": "2.5.0"
  }
 },
 "nbformat": 4,
 "nbformat_minor": 5
}
